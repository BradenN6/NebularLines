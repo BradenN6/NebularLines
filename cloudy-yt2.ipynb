{
 "cells": [
  {
   "cell_type": "markdown",
   "id": "920596e5-4d49-4801-a26d-1d6f94a0b708",
   "metadata": {},
   "source": [
    "\n",
    "Visualize nebular line emission strengths from RAMSES-RT Simulations of early galaxies using yt-project. \n",
    "Line emission strengths are incorporated from runs of the Cloudy photoionization software (Ferland). "
   ]
  },
  {
   "cell_type": "code",
   "execution_count": 9,
   "id": "4061176f-0a92-4925-b8a0-0583a7123a92",
   "metadata": {},
   "outputs": [],
   "source": [
    "import numpy as np\n",
    "import matplotlib as plt\n",
    "from scipy.interpolate import RegularGridInterpolator\n",
    "import yt"
   ]
  },
  {
   "cell_type": "code",
   "execution_count": 10,
   "id": "30b17db2-5869-4a2e-866a-c9274c6c3cef",
   "metadata": {},
   "outputs": [
    {
     "name": "stdout",
     "output_type": "stream",
     "text": [
      "-6.0 1.0 0.5 -1.0 6.0 0.5 3.0 6.0 0.1\n",
      "(25, 6975)\n"
     ]
    }
   ],
   "source": [
    "# Read line emission data (line list, run params)\n",
    "filename='CloudyFiles/linelist.dat'\n",
    "minU,maxU,stepU,minN,maxN,stepN,minT,maxT,stepT=np.loadtxt(filename,unpack=True,dtype=float, max_rows=1, skiprows=5)\n",
    "print(minU,maxU,stepU,minN,maxN,stepN,minT,maxT,stepT)\n",
    "\n",
    "ll=np.loadtxt(filename,unpack=True,dtype=float,skiprows=7)\n",
    "print(ll.shape)"
   ]
  },
  {
   "cell_type": "code",
   "execution_count": 11,
   "id": "6538119a-f522-484e-a636-e1c93e14a1d6",
   "metadata": {},
   "outputs": [],
   "source": [
    "titls=[\"H1 6562.80A\",\"O1 1304.86A\",\"O1 6300.30A\",\"O2 3728.80A\",\"O2 3726.10A\",\"O3 1660.81A\",\n",
    "       \"O3 1666.15A\",\"O3 4363.21A\",\"O3 4958.91A\",\"O3 5006.84A\", \"He2 1640.41A\",\"C2 1335.66A\",\n",
    "       \"C3 1906.68A\",\"C3 1908.73A\",\"C4 1549.00A\",\"Mg2 2795.53A\",\"Mg2 2802.71A\",\"Ne3 3868.76A\",\n",
    "       \"Ne3 3967.47A\",\"N5 1238.82A\",\"N5 1242.80A\",\"N4 1486.50A\",\"N3 1749.67A\",\"S2 6716.44A\",\"S2 6730.82A\"]\n",
    "\n",
    "# Number of emission lines\n",
    "ncols=len(titls)\n",
    "\n",
    "# Set the line to visualize\n",
    "lineidx=0"
   ]
  },
  {
   "cell_type": "code",
   "execution_count": 12,
   "id": "ecc7adff-efa0-4b76-ad38-33342c5af36b",
   "metadata": {},
   "outputs": [
    {
     "name": "stdout",
     "output_type": "stream",
     "text": [
      "15 15 31\n"
     ]
    }
   ],
   "source": [
    "# Reconfigure linelist into a data cube\n",
    "dimU=int((maxU-minU)/stepU)+1\n",
    "dimT=int((maxT-minT)/stepT)+1\n",
    "dimN=int((maxN-minN)/stepN)+1\n",
    "print(dimU,dimN,dimT)\n",
    "\n",
    "# the log values of U, n, T in the run/grid\n",
    "logU=minU+np.arange(dimU)*stepU\n",
    "logN=minN+np.arange(dimN)*stepN\n",
    "logT=minT+np.arange(dimT)*stepT\n",
    "\n",
    "# (Ionization Parameter, Density, Temperature)\n",
    "# (U, density, T)\n",
    "# d defines the cube dimensions\n",
    "# 4D cube with ncols line strengths at each U, N, T coordinate\n",
    "# cub[i] is the cube for a single emission line\n",
    "# reshape the 1D array ll[i, :] of a certain line's strengths\n",
    "# to U, N, T grid\n",
    "d=(dimU,dimN,dimT)\n",
    "cub=np.zeros((ncols,dimU,dimN,dimT))\n",
    "for i in range(ncols):\n",
    "    cub[i]=np.reshape(ll[i,:], d)\n",
    "    #print(cub[i].shape)\n",
    "\n",
    "# normalize by the density squared\n",
    "#for i in np.arange(dimN):\n",
    "#    for j in np.arange(ncols):\n",
    "#    cub[j,:,i,:]=cub[j,:,i,:]/10**(2*logn[i])\n",
    "#    #cub[j,:,i,:]=cub[j,:,i,:]"
   ]
  },
  {
   "cell_type": "code",
   "execution_count": 14,
   "id": "c4b10da4-29fa-4ca1-a8f4-b8aee4bc8b46",
   "metadata": {},
   "outputs": [],
   "source": [
    "# Interpolation\n",
    "# list of interpolators (for each emission line)\n",
    "interpolator = [None]*ncols\n",
    "\n",
    "for i in np.arange(ncols):\n",
    "  interpolator[i] = RegularGridInterpolator((logU, logN, logT), cub[i])"
   ]
  },
  {
   "cell_type": "code",
   "execution_count": null,
   "id": "d789f10d-2392-4007-9b18-a09cadfec251",
   "metadata": {},
   "outputs": [],
   "source": [
    "def _emission(field, data):\n",
    "    return (\n",
    "        interpolator[lineidx]((U,N,T))\n",
    "    )"
   ]
  }
 ],
 "metadata": {
  "kernelspec": {
   "display_name": "Python 3 (ipykernel)",
   "language": "python",
   "name": "python3"
  },
  "language_info": {
   "codemirror_mode": {
    "name": "ipython",
    "version": 3
   },
   "file_extension": ".py",
   "mimetype": "text/x-python",
   "name": "python",
   "nbconvert_exporter": "python",
   "pygments_lexer": "ipython3",
   "version": "3.10.14"
  }
 },
 "nbformat": 4,
 "nbformat_minor": 5
}
