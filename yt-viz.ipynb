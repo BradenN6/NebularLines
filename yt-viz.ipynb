{
 "cells": [
  {
   "cell_type": "code",
   "execution_count": 1,
   "id": "ce792860-a828-4ff9-84aa-a87b6f021c2e",
   "metadata": {},
   "outputs": [],
   "source": [
    "# importing package\n",
    "import pandas as pd\n",
    "import numpy as np\n",
    "import os\n",
    "import matplotlib.pyplot as plt"
   ]
  },
  {
   "cell_type": "code",
   "execution_count": 2,
   "id": "9c7e7a13-b3ed-4c82-a517-df741c0df90c",
   "metadata": {},
   "outputs": [
    {
     "name": "stderr",
     "output_type": "stream",
     "text": [
      "yt : [INFO     ] 2024-09-20 19:27:22,670 Parameters: current_time              = 4.311420483661945\n",
      "yt : [INFO     ] 2024-09-20 19:27:22,670 Parameters: domain_dimensions         = [64 64 64]\n",
      "yt : [INFO     ] 2024-09-20 19:27:22,671 Parameters: domain_left_edge          = [0. 0. 0.]\n",
      "yt : [INFO     ] 2024-09-20 19:27:22,671 Parameters: domain_right_edge         = [1. 1. 1.]\n",
      "yt : [INFO     ] 2024-09-20 19:27:22,671 Parameters: cosmological_simulation   = 1\n",
      "yt : [INFO     ] 2024-09-20 19:27:22,671 Parameters: current_redshift          = 12.171087046255657\n",
      "yt : [INFO     ] 2024-09-20 19:27:22,672 Parameters: omega_lambda              = 0.685000002384186\n",
      "yt : [INFO     ] 2024-09-20 19:27:22,672 Parameters: omega_matter              = 0.314999997615814\n",
      "yt : [INFO     ] 2024-09-20 19:27:22,672 Parameters: omega_radiation           = 0.0\n",
      "yt : [INFO     ] 2024-09-20 19:27:22,672 Parameters: hubble_constant           = 0.674000015258789\n"
     ]
    }
   ],
   "source": [
    "import yt\n",
    "# Load the dataset.\n",
    "ds = yt.load(\"/Users/bnowicki/Documents/Research/Ricotti/output_00273\")"
   ]
  },
  {
   "cell_type": "code",
   "execution_count": 3,
   "id": "e68afe53-67c0-4221-97bc-94ae9817f890",
   "metadata": {},
   "outputs": [
    {
     "name": "stderr",
     "output_type": "stream",
     "text": [
      "yt : [INFO     ] 2024-09-20 19:27:22,681 Detected RAMSES-RT file WITH IR trapping.\n",
      "yt : [WARNING  ] 2024-09-20 19:27:22,691 Detected 4 extra particle fields assuming kind `double`. Consider using the `extra_particle_fields` keyword argument if you have unexpected behavior.\n",
      "yt : [WARNING  ] 2024-09-20 19:27:27,052 This output has no cooling fields\n"
     ]
    },
    {
     "name": "stdout",
     "output_type": "stream",
     "text": [
      "['deposit', 'gas', 'gravity', 'index', 'io', 'nbody', 'ramses', 'ramses-rt', 'rt', 'sink', 'sink_csv']\n",
      "['Density', 'HII', 'HeII', 'HeIII', 'Metallicity', 'Pres_IR', 'Pressure', 'cell_volume', 'dx', 'dy', 'dz', 'path_element_x', 'path_element_y', 'path_element_z', 'var_10', 'vertex_x', 'vertex_y', 'vertex_z', 'volume', 'x', 'x-velocity', 'y', 'y-velocity', 'z', 'z-velocity']\n"
     ]
    }
   ],
   "source": [
    "print(dir(ds.fields))\n",
    "print(dir(ds.fields.ramses))"
   ]
  },
  {
   "cell_type": "code",
   "execution_count": 4,
   "id": "319d3679-34b7-4de9-9a90-02f5da21d85a",
   "metadata": {},
   "outputs": [
    {
     "name": "stderr",
     "output_type": "stream",
     "text": [
      "yt : [INFO     ] 2024-09-20 19:32:15,757 Parameters: current_time              = 4.311420483661945\n",
      "yt : [INFO     ] 2024-09-20 19:32:15,758 Parameters: domain_dimensions         = [64 64 64]\n",
      "yt : [INFO     ] 2024-09-20 19:32:15,758 Parameters: domain_left_edge          = [0. 0. 0.]\n",
      "yt : [INFO     ] 2024-09-20 19:32:15,759 Parameters: domain_right_edge         = [1. 1. 1.]\n",
      "yt : [INFO     ] 2024-09-20 19:32:15,759 Parameters: cosmological_simulation   = 1\n",
      "yt : [INFO     ] 2024-09-20 19:32:15,759 Parameters: current_redshift          = 12.171087046255657\n",
      "yt : [INFO     ] 2024-09-20 19:32:15,759 Parameters: omega_lambda              = 0.685000002384186\n",
      "yt : [INFO     ] 2024-09-20 19:32:15,759 Parameters: omega_matter              = 0.314999997615814\n",
      "yt : [INFO     ] 2024-09-20 19:32:15,760 Parameters: omega_radiation           = 0.0\n",
      "yt : [INFO     ] 2024-09-20 19:32:15,760 Parameters: hubble_constant           = 0.674000015258789\n"
     ]
    }
   ],
   "source": [
    "cell_fields = [\n",
    "    \"Density\",\n",
    "    \"x-velocity\",\n",
    "    \"y-velocity\",\n",
    "    \"z-velocity\",\n",
    "    \"Pressure\",\n",
    "    \"Metallicity\",\n",
    "    # \"dark_matter_density\",\n",
    "    \"xHI\",\n",
    "    \"xHII\",\n",
    "    \"xHeII\",\n",
    "    \"xHeIII\",\n",
    "]\n",
    "epf = [\n",
    "    (\"particle_family\", \"b\"),\n",
    "    (\"particle_tag\", \"b\"),\n",
    "    (\"particle_birth_epoch\", \"d\"),\n",
    "    (\"particle_metallicity\", \"d\"),\n",
    "]\n",
    "\n",
    "f1 = \"/Users/bnowicki/Documents/Research/Ricotti/output_00273\"\n",
    "\n",
    "#f2 = \"output_00274/info_00274.txt\"\n",
    "ds = yt.load(f1, fields=cell_fields, extra_particle_fields=epf)\n",
    "#ad_psfc = pre_sfc_ds.all_data()"
   ]
  },
  {
   "cell_type": "code",
   "execution_count": null,
   "id": "57388c1d-c3d2-4740-84d7-c7a1560abd79",
   "metadata": {},
   "outputs": [],
   "source": [
    "#pre_sfc_ds = yt.load(f1, fields=cell_fields, extra_particle_fields=epf)\n",
    "#ad_psfc = pre_sfc_ds.all_data()\n",
    "#print(\"snapshot 00273 current time\", pre_sfc_ds.current_time.in_units(\"Myr\"))\n",
    "#pre_rhomax, pre_xyz = pre_sfc_ds.find_max((\"gas\", \"density\"))\n",
    "#print(\"about to form star cluster at\", pre_xyz.to(\"pc\"), \"with density\", pre_rhomax)\n",
    "\n",
    "# star cluster just formed\n",
    "#post_sfc_ds = yt.load(f2, fields=cell_fields, extra_particle_fields=epf)\n",
    "#ad_sfc = post_sfc_ds.all_data()\n",
    "#print(\"snapshot 00274 current time\", post_sfc_ds.current_time.in_units(\"Myr\"))\n",
    "#pos_sfcs = ad_sfc[\"SFC\", \"particle_position\"]\n",
    "#print(\"SFCs located at\")\n",
    "#print(pos_sfcs)\n",
    "#print(pos_sfcs.to(\"pc\"))"
   ]
  },
  {
   "cell_type": "code",
   "execution_count": 7,
   "id": "5f820615-09dc-4f4a-95d6-36076415d657",
   "metadata": {},
   "outputs": [
    {
     "name": "stdout",
     "output_type": "stream",
     "text": [
      "['DM', 'cloud', 'cloud_tracer', 'deposit', 'dust', 'dust_tracer', 'gas', 'gas_tracer', 'gravity', 'index', 'io', 'nbody', 'ramses', 'ramses-rt', 'rt', 'sink', 'sink_csv', 'star', 'star_tracer']\n",
      "['mesh_id', 'particle_birth_epoch', 'particle_family', 'particle_identity', 'particle_index', 'particle_mass', 'particle_metallicity', 'particle_ones', 'particle_position', 'particle_position_cylindrical_radius', 'particle_position_cylindrical_theta', 'particle_position_cylindrical_z', 'particle_position_relative_x', 'particle_position_relative_y', 'particle_position_relative_z', 'particle_position_spherical_phi', 'particle_position_spherical_radius', 'particle_position_spherical_theta', 'particle_position_x', 'particle_position_y', 'particle_position_z', 'particle_radial_velocity', 'particle_radius', 'particle_refinement_level', 'particle_tag', 'particle_velocity', 'particle_velocity_cylindrical_radius', 'particle_velocity_cylindrical_theta', 'particle_velocity_cylindrical_z', 'particle_velocity_magnitude', 'particle_velocity_relative_x', 'particle_velocity_relative_y', 'particle_velocity_relative_z', 'particle_velocity_spherical_phi', 'particle_velocity_spherical_radius', 'particle_velocity_spherical_theta', 'particle_velocity_x', 'particle_velocity_y', 'particle_velocity_z', 'relative_particle_position', 'relative_particle_position_x', 'relative_particle_position_y', 'relative_particle_position_z', 'relative_particle_velocity', 'relative_particle_velocity_x', 'relative_particle_velocity_y', 'relative_particle_velocity_z']\n",
      "['acceleration_x', 'acceleration_y', 'acceleration_z', 'angular_momentum_magnitude', 'angular_momentum_x', 'angular_momentum_y', 'angular_momentum_z', 'averaged_density', 'baroclinic_vorticity_magnitude', 'baroclinic_vorticity_x', 'baroclinic_vorticity_y', 'baroclinic_vorticity_z', 'baryon_overdensity', 'cell_mass', 'cell_volume', 'courant_time_step', 'cutting_plane_velocity_x', 'cutting_plane_velocity_y', 'cutting_plane_velocity_z', 'density', 'density_gradient_magnitude', 'density_gradient_x', 'density_gradient_y', 'density_gradient_z', 'dx', 'dy', 'dynamical_time', 'dz', 'four_velocity_magnitude', 'four_velocity_t', 'four_velocity_x', 'four_velocity_y', 'four_velocity_z', 'jeans_mass', 'kT', 'kinetic_energy_density', 'lorentz_factor', 'mach_number', 'mass', 'mean_molecular_weight', 'metal_mass', 'metallicity', 'momentum_density_x', 'momentum_density_y', 'momentum_density_z', 'momentum_x', 'momentum_y', 'momentum_z', 'number_density', 'path_element_x', 'path_element_y', 'path_element_z', 'potential', 'potential_energy', 'pressure', 'pressure_gradient_magnitude', 'pressure_gradient_x', 'pressure_gradient_y', 'pressure_gradient_z', 'radial_mach_number', 'radial_velocity', 'radial_velocity_absolute', 'relative_velocity_x', 'relative_velocity_y', 'relative_velocity_z', 'shear', 'shear_criterion', 'shear_mach', 'sound_speed', 'specific_angular_momentum_magnitude', 'specific_angular_momentum_x', 'specific_angular_momentum_y', 'specific_angular_momentum_z', 'tangential_over_velocity_magnitude', 'tangential_velocity', 'temperature', 'velocity_cylindrical_radius', 'velocity_cylindrical_theta', 'velocity_cylindrical_z', 'velocity_divergence', 'velocity_divergence_absolute', 'velocity_los', 'velocity_magnitude', 'velocity_spherical_phi', 'velocity_spherical_radius', 'velocity_spherical_theta', 'velocity_x', 'velocity_y', 'velocity_z', 'vertex_x', 'vertex_y', 'vertex_z', 'volume', 'vorticity_growth_magnitude', 'vorticity_growth_magnitude_absolute', 'vorticity_growth_timescale', 'vorticity_growth_x', 'vorticity_growth_y', 'vorticity_growth_z', 'vorticity_magnitude', 'vorticity_squared', 'vorticity_stretching_magnitude', 'vorticity_stretching_x', 'vorticity_stretching_y', 'vorticity_stretching_z', 'vorticity_x', 'vorticity_y', 'vorticity_z', 'x', 'y', 'z']\n",
      "Alias Field for ('ramses', 'Density') ('gas', 'density'): (units: 'g/cm**3')\n"
     ]
    }
   ],
   "source": [
    "print(dir(ds.fields))\n",
    "print(dir(ds.fields.star))\n",
    "print(dir(ds.fields.gas))\n",
    "print(ds.fields.gas.density)"
   ]
  },
  {
   "cell_type": "code",
   "execution_count": 8,
   "id": "d0343a95-439d-4813-8d69-0b48a657cee6",
   "metadata": {},
   "outputs": [
    {
     "name": "stderr",
     "output_type": "stream",
     "text": [
      "yt : [INFO     ] 2024-09-20 19:33:37,113 Projection completed\n",
      "yt : [INFO     ] 2024-09-20 19:33:37,118 xlim = 0.491131 0.491231\n",
      "yt : [INFO     ] 2024-09-20 19:33:37,118 ylim = 0.492704 0.492804\n",
      "yt : [INFO     ] 2024-09-20 19:33:37,119 xlim = 0.491131 0.491231\n",
      "yt : [INFO     ] 2024-09-20 19:33:37,119 ylim = 0.492704 0.492804\n"
     ]
    },
    {
     "ename": "ValueError",
     "evalue": "Unable to avoid copy while creating an array as requested.\nIf using `np.array(obj, copy=False)` replace it with `np.asarray(obj)` to allow a copy when needed (no behavior change in NumPy 1.x).\nFor more details, see https://numpy.org/devdocs/numpy_2_0_migration_guide.html#adapting-to-changes-in-the-copy-keyword.",
     "output_type": "error",
     "traceback": [
      "\u001b[0;31m---------------------------------------------------------------------------\u001b[0m",
      "\u001b[0;31mValueError\u001b[0m                                Traceback (most recent call last)",
      "Cell \u001b[0;32mIn[8], line 1\u001b[0m\n\u001b[0;32m----> 1\u001b[0m \u001b[43myt\u001b[49m\u001b[38;5;241;43m.\u001b[39;49m\u001b[43mProjectionPlot\u001b[49m\u001b[43m(\u001b[49m\n\u001b[1;32m      2\u001b[0m \u001b[43m    \u001b[49m\u001b[43mds\u001b[49m\u001b[43m,\u001b[49m\n\u001b[1;32m      3\u001b[0m \u001b[43m    \u001b[49m\u001b[38;5;124;43m\"\u001b[39;49m\u001b[38;5;124;43mz\u001b[39;49m\u001b[38;5;124;43m\"\u001b[39;49m\u001b[43m,\u001b[49m\n\u001b[1;32m      4\u001b[0m \u001b[43m    \u001b[49m\u001b[43m(\u001b[49m\u001b[38;5;124;43m\"\u001b[39;49m\u001b[38;5;124;43mramses\u001b[39;49m\u001b[38;5;124;43m\"\u001b[39;49m\u001b[43m,\u001b[49m\u001b[43m \u001b[49m\u001b[38;5;124;43m\"\u001b[39;49m\u001b[38;5;124;43mxHII\u001b[39;49m\u001b[38;5;124;43m\"\u001b[39;49m\u001b[43m)\u001b[49m\u001b[43m,\u001b[49m\n\u001b[1;32m      5\u001b[0m \u001b[43m    \u001b[49m\u001b[43mwidth\u001b[49m\u001b[38;5;241;43m=\u001b[39;49m\u001b[38;5;241;43m0.0001\u001b[39;49m\u001b[43m,\u001b[49m\n\u001b[1;32m      6\u001b[0m \u001b[43m    \u001b[49m\u001b[43mweight_field\u001b[49m\u001b[38;5;241;43m=\u001b[39;49m\u001b[43m(\u001b[49m\u001b[38;5;124;43m\"\u001b[39;49m\u001b[38;5;124;43mgas\u001b[39;49m\u001b[38;5;124;43m\"\u001b[39;49m\u001b[43m,\u001b[49m\u001b[43m \u001b[49m\u001b[38;5;124;43m\"\u001b[39;49m\u001b[38;5;124;43mnumber_density\u001b[39;49m\u001b[38;5;124;43m\"\u001b[39;49m\u001b[43m)\u001b[49m\u001b[43m,\u001b[49m\n\u001b[1;32m      7\u001b[0m \u001b[43m    \u001b[49m\u001b[43mbuff_size\u001b[49m\u001b[38;5;241;43m=\u001b[39;49m\u001b[43m(\u001b[49m\u001b[38;5;241;43m1000\u001b[39;49m\u001b[43m,\u001b[49m\u001b[43m \u001b[49m\u001b[38;5;241;43m1000\u001b[39;49m\u001b[43m)\u001b[49m\u001b[43m,\u001b[49m\n\u001b[1;32m      8\u001b[0m \u001b[43m    \u001b[49m\u001b[43mcenter\u001b[49m\u001b[38;5;241;43m=\u001b[39;49m\u001b[43m[\u001b[49m\u001b[38;5;241;43m0.49118094\u001b[39;49m\u001b[43m,\u001b[49m\u001b[43m \u001b[49m\u001b[38;5;241;43m0.49275361\u001b[39;49m\u001b[43m,\u001b[49m\u001b[43m \u001b[49m\u001b[38;5;241;43m0.49473726\u001b[39;49m\u001b[43m]\u001b[49m\n\u001b[1;32m      9\u001b[0m \u001b[43m)\u001b[49m\n",
      "File \u001b[0;32m~/miniforge3/lib/python3.10/site-packages/yt/visualization/plot_window.py:2088\u001b[0m, in \u001b[0;36mAxisAlignedProjectionPlot.__init__\u001b[0;34m(self, ds, normal, fields, center, width, axes_unit, weight_field, max_level, origin, fontsize, field_parameters, data_source, method, window_size, buff_size, aspect, moment)\u001b[0m\n\u001b[1;32m   2076\u001b[0m     proj \u001b[38;5;241m=\u001b[39m ds\u001b[38;5;241m.\u001b[39mproj(\n\u001b[1;32m   2077\u001b[0m         fields,\n\u001b[1;32m   2078\u001b[0m         axis,\n\u001b[0;32m   (...)\u001b[0m\n\u001b[1;32m   2085\u001b[0m         moment\u001b[38;5;241m=\u001b[39mmoment,\n\u001b[1;32m   2086\u001b[0m     )\n\u001b[1;32m   2087\u001b[0m \u001b[38;5;28mself\u001b[39m\u001b[38;5;241m.\u001b[39mmoment \u001b[38;5;241m=\u001b[39m moment\n\u001b[0;32m-> 2088\u001b[0m \u001b[43mPWViewerMPL\u001b[49m\u001b[38;5;241;43m.\u001b[39;49m\u001b[38;5;21;43m__init__\u001b[39;49m\u001b[43m(\u001b[49m\n\u001b[1;32m   2089\u001b[0m \u001b[43m    \u001b[49m\u001b[38;5;28;43mself\u001b[39;49m\u001b[43m,\u001b[49m\n\u001b[1;32m   2090\u001b[0m \u001b[43m    \u001b[49m\u001b[43mproj\u001b[49m\u001b[43m,\u001b[49m\n\u001b[1;32m   2091\u001b[0m \u001b[43m    \u001b[49m\u001b[43mbounds\u001b[49m\u001b[43m,\u001b[49m\n\u001b[1;32m   2092\u001b[0m \u001b[43m    \u001b[49m\u001b[43mfields\u001b[49m\u001b[38;5;241;43m=\u001b[39;49m\u001b[43mfields\u001b[49m\u001b[43m,\u001b[49m\n\u001b[1;32m   2093\u001b[0m \u001b[43m    \u001b[49m\u001b[43morigin\u001b[49m\u001b[38;5;241;43m=\u001b[39;49m\u001b[43morigin\u001b[49m\u001b[43m,\u001b[49m\n\u001b[1;32m   2094\u001b[0m \u001b[43m    \u001b[49m\u001b[43mfontsize\u001b[49m\u001b[38;5;241;43m=\u001b[39;49m\u001b[43mfontsize\u001b[49m\u001b[43m,\u001b[49m\n\u001b[1;32m   2095\u001b[0m \u001b[43m    \u001b[49m\u001b[43mwindow_size\u001b[49m\u001b[38;5;241;43m=\u001b[39;49m\u001b[43mwindow_size\u001b[49m\u001b[43m,\u001b[49m\n\u001b[1;32m   2096\u001b[0m \u001b[43m    \u001b[49m\u001b[43maspect\u001b[49m\u001b[38;5;241;43m=\u001b[39;49m\u001b[43maspect\u001b[49m\u001b[43m,\u001b[49m\n\u001b[1;32m   2097\u001b[0m \u001b[43m    \u001b[49m\u001b[43mbuff_size\u001b[49m\u001b[38;5;241;43m=\u001b[39;49m\u001b[43mbuff_size\u001b[49m\u001b[43m,\u001b[49m\n\u001b[1;32m   2098\u001b[0m \u001b[43m    \u001b[49m\u001b[43mgeometry\u001b[49m\u001b[38;5;241;43m=\u001b[39;49m\u001b[43mds\u001b[49m\u001b[38;5;241;43m.\u001b[39;49m\u001b[43mgeometry\u001b[49m\u001b[43m,\u001b[49m\n\u001b[1;32m   2099\u001b[0m \u001b[43m\u001b[49m\u001b[43m)\u001b[49m\n\u001b[1;32m   2100\u001b[0m \u001b[38;5;28;01mif\u001b[39;00m axes_unit \u001b[38;5;129;01mis\u001b[39;00m \u001b[38;5;28;01mNone\u001b[39;00m:\n\u001b[1;32m   2101\u001b[0m     axes_unit \u001b[38;5;241m=\u001b[39m get_axes_unit(width, ds)\n",
      "File \u001b[0;32m~/miniforge3/lib/python3.10/site-packages/yt/visualization/plot_window.py:864\u001b[0m, in \u001b[0;36mPWViewerMPL.__init__\u001b[0;34m(self, *args, **kwargs)\u001b[0m\n\u001b[1;32m    862\u001b[0m     \u001b[38;5;28mself\u001b[39m\u001b[38;5;241m.\u001b[39m_plot_type \u001b[38;5;241m=\u001b[39m kwargs\u001b[38;5;241m.\u001b[39mpop(\u001b[38;5;124m\"\u001b[39m\u001b[38;5;124mplot_type\u001b[39m\u001b[38;5;124m\"\u001b[39m)\n\u001b[1;32m    863\u001b[0m \u001b[38;5;28mself\u001b[39m\u001b[38;5;241m.\u001b[39m_splat_color \u001b[38;5;241m=\u001b[39m kwargs\u001b[38;5;241m.\u001b[39mpop(\u001b[38;5;124m\"\u001b[39m\u001b[38;5;124msplat_color\u001b[39m\u001b[38;5;124m\"\u001b[39m, \u001b[38;5;28;01mNone\u001b[39;00m)\n\u001b[0;32m--> 864\u001b[0m \u001b[43mPlotWindow\u001b[49m\u001b[38;5;241;43m.\u001b[39;49m\u001b[38;5;21;43m__init__\u001b[39;49m\u001b[43m(\u001b[49m\u001b[38;5;28;43mself\u001b[39;49m\u001b[43m,\u001b[49m\u001b[43m \u001b[49m\u001b[38;5;241;43m*\u001b[39;49m\u001b[43margs\u001b[49m\u001b[43m,\u001b[49m\u001b[43m \u001b[49m\u001b[38;5;241;43m*\u001b[39;49m\u001b[38;5;241;43m*\u001b[39;49m\u001b[43mkwargs\u001b[49m\u001b[43m)\u001b[49m\n\u001b[1;32m    866\u001b[0m \u001b[38;5;66;03m# import type here to avoid import cycles\u001b[39;00m\n\u001b[1;32m    867\u001b[0m \u001b[38;5;66;03m# note that this import statement is actually crucial at runtime:\u001b[39;00m\n\u001b[1;32m    868\u001b[0m \u001b[38;5;66;03m# the filter methods for the present class are defined only when\u001b[39;00m\n\u001b[1;32m    869\u001b[0m \u001b[38;5;66;03m# fixed_resolution_filters is imported, so we need to guarantee\u001b[39;00m\n\u001b[1;32m    870\u001b[0m \u001b[38;5;66;03m# that it happens no later than instantiation\u001b[39;00m\n\u001b[1;32m    871\u001b[0m \u001b[38;5;28;01mfrom\u001b[39;00m \u001b[38;5;21;01myt\u001b[39;00m\u001b[38;5;21;01m.\u001b[39;00m\u001b[38;5;21;01mvisualization\u001b[39;00m\u001b[38;5;21;01m.\u001b[39;00m\u001b[38;5;21;01mplot_modifications\u001b[39;00m \u001b[38;5;28;01mimport\u001b[39;00m PlotCallback\n",
      "File \u001b[0;32m~/miniforge3/lib/python3.10/site-packages/yt/visualization/plot_window.py:252\u001b[0m, in \u001b[0;36mPlotWindow.__init__\u001b[0;34m(self, data_source, bounds, buff_size, antialias, periodic, origin, oblique, window_size, fields, fontsize, aspect, setup, geometry)\u001b[0m\n\u001b[1;32m    249\u001b[0m     \u001b[38;5;28mself\u001b[39m\u001b[38;5;241m.\u001b[39m_projection \u001b[38;5;241m=\u001b[39m get_mpl_transform(projection)\n\u001b[1;32m    250\u001b[0m     \u001b[38;5;28mself\u001b[39m\u001b[38;5;241m.\u001b[39m_transform \u001b[38;5;241m=\u001b[39m get_mpl_transform(transform)\n\u001b[0;32m--> 252\u001b[0m \u001b[38;5;28;43mself\u001b[39;49m\u001b[38;5;241;43m.\u001b[39;49m\u001b[43m_setup_plots\u001b[49m\u001b[43m(\u001b[49m\u001b[43m)\u001b[49m\n\u001b[1;32m    254\u001b[0m \u001b[38;5;28;01mfor\u001b[39;00m field \u001b[38;5;129;01min\u001b[39;00m \u001b[38;5;28mself\u001b[39m\u001b[38;5;241m.\u001b[39mdata_source\u001b[38;5;241m.\u001b[39m_determine_fields(\u001b[38;5;28mself\u001b[39m\u001b[38;5;241m.\u001b[39mfields):\n\u001b[1;32m    255\u001b[0m     finfo \u001b[38;5;241m=\u001b[39m \u001b[38;5;28mself\u001b[39m\u001b[38;5;241m.\u001b[39mdata_source\u001b[38;5;241m.\u001b[39mds\u001b[38;5;241m.\u001b[39m_get_field_info(field)\n",
      "File \u001b[0;32m~/miniforge3/lib/python3.10/site-packages/yt/visualization/plot_window.py:1013\u001b[0m, in \u001b[0;36mPWViewerMPL._setup_plots\u001b[0;34m(self)\u001b[0m\n\u001b[1;32m   1010\u001b[0m \u001b[38;5;28;01mfor\u001b[39;00m f \u001b[38;5;129;01min\u001b[39;00m field_list:\n\u001b[1;32m   1011\u001b[0m     axis_index \u001b[38;5;241m=\u001b[39m \u001b[38;5;28mself\u001b[39m\u001b[38;5;241m.\u001b[39mdata_source\u001b[38;5;241m.\u001b[39maxis\n\u001b[0;32m-> 1013\u001b[0m     xc, yc \u001b[38;5;241m=\u001b[39m \u001b[38;5;28;43mself\u001b[39;49m\u001b[38;5;241;43m.\u001b[39;49m\u001b[43m_setup_origin\u001b[49m\u001b[43m(\u001b[49m\u001b[43m)\u001b[49m\n\u001b[1;32m   1014\u001b[0m     \u001b[38;5;28;01mif\u001b[39;00m \u001b[38;5;28mself\u001b[39m\u001b[38;5;241m.\u001b[39mds\u001b[38;5;241m.\u001b[39m_uses_code_length_unit:\n\u001b[1;32m   1015\u001b[0m         \u001b[38;5;66;03m# this should happen only if the dataset was initialized with\u001b[39;00m\n\u001b[1;32m   1016\u001b[0m         \u001b[38;5;66;03m# argument unit_system=\"code\" or if it's set to have no CGS\u001b[39;00m\n\u001b[1;32m   1017\u001b[0m         \u001b[38;5;66;03m# equivalent.  This only needs to happen here in the specific\u001b[39;00m\n\u001b[1;32m   1018\u001b[0m         \u001b[38;5;66;03m# case that we're doing a computationally intense operation\u001b[39;00m\n\u001b[1;32m   1019\u001b[0m         \u001b[38;5;66;03m# like using cartopy, but it prevents crashes in that case.\u001b[39;00m\n\u001b[1;32m   1020\u001b[0m         (unit_x, unit_y) \u001b[38;5;241m=\u001b[39m (\u001b[38;5;124m\"\u001b[39m\u001b[38;5;124mcode_length\u001b[39m\u001b[38;5;124m\"\u001b[39m, \u001b[38;5;124m\"\u001b[39m\u001b[38;5;124mcode_length\u001b[39m\u001b[38;5;124m\"\u001b[39m)\n",
      "File \u001b[0;32m~/miniforge3/lib/python3.10/site-packages/yt/visualization/plot_window.py:990\u001b[0m, in \u001b[0;36mPWViewerMPL._setup_origin\u001b[0;34m(self)\u001b[0m\n\u001b[1;32m    987\u001b[0m     \u001b[38;5;28;01melif\u001b[39;00m origin[\u001b[38;5;241m1\u001b[39m] \u001b[38;5;241m==\u001b[39m \u001b[38;5;124m\"\u001b[39m\u001b[38;5;124mcenter\u001b[39m\u001b[38;5;124m\"\u001b[39m:\n\u001b[1;32m    988\u001b[0m         xc \u001b[38;5;241m=\u001b[39m (xllim \u001b[38;5;241m+\u001b[39m xrlim) \u001b[38;5;241m/\u001b[39m \u001b[38;5;241m2.0\u001b[39m\n\u001b[0;32m--> 990\u001b[0m x_in_bounds \u001b[38;5;241m=\u001b[39m \u001b[43mxc\u001b[49m\u001b[43m \u001b[49m\u001b[38;5;241;43m>\u001b[39;49m\u001b[38;5;241;43m=\u001b[39;49m\u001b[43m \u001b[49m\u001b[43mxllim\u001b[49m \u001b[38;5;129;01mand\u001b[39;00m xc \u001b[38;5;241m<\u001b[39m\u001b[38;5;241m=\u001b[39m xrlim\n\u001b[1;32m    991\u001b[0m y_in_bounds \u001b[38;5;241m=\u001b[39m yc \u001b[38;5;241m>\u001b[39m\u001b[38;5;241m=\u001b[39m yllim \u001b[38;5;129;01mand\u001b[39;00m yc \u001b[38;5;241m<\u001b[39m\u001b[38;5;241m=\u001b[39m yrlim\n\u001b[1;32m    993\u001b[0m \u001b[38;5;28;01mif\u001b[39;00m \u001b[38;5;129;01mnot\u001b[39;00m x_in_bounds \u001b[38;5;129;01mand\u001b[39;00m \u001b[38;5;129;01mnot\u001b[39;00m y_in_bounds:\n",
      "File \u001b[0;32m~/miniforge3/lib/python3.10/site-packages/unyt/array.py:1949\u001b[0m, in \u001b[0;36munyt_array.__array_ufunc__\u001b[0;34m(self, ufunc, method, *inputs, **kwargs)\u001b[0m\n\u001b[1;32m   1944\u001b[0m         \u001b[38;5;28;01mraise\u001b[39;00m \u001b[38;5;167;01mRuntimeError\u001b[39;00m(\n\u001b[1;32m   1945\u001b[0m             \u001b[38;5;124m\"\u001b[39m\u001b[38;5;124mSupport for the \u001b[39m\u001b[38;5;132;01m%s\u001b[39;00m\u001b[38;5;124m ufunc with \u001b[39m\u001b[38;5;132;01m%i\u001b[39;00m\u001b[38;5;124m inputs has not been \u001b[39m\u001b[38;5;124m\"\u001b[39m\n\u001b[1;32m   1946\u001b[0m             \u001b[38;5;124m\"\u001b[39m\u001b[38;5;124madded to unyt_array.\u001b[39m\u001b[38;5;124m\"\u001b[39m \u001b[38;5;241m%\u001b[39m (\u001b[38;5;28mstr\u001b[39m(ufunc), \u001b[38;5;28mlen\u001b[39m(inputs))\n\u001b[1;32m   1947\u001b[0m         )\n\u001b[1;32m   1948\u001b[0m \u001b[38;5;28;01mif\u001b[39;00m unit \u001b[38;5;129;01mis\u001b[39;00m \u001b[38;5;28;01mNone\u001b[39;00m:\n\u001b[0;32m-> 1949\u001b[0m     out_arr \u001b[38;5;241m=\u001b[39m \u001b[43mnp\u001b[49m\u001b[38;5;241;43m.\u001b[39;49m\u001b[43marray\u001b[49m\u001b[43m(\u001b[49m\u001b[43mout_arr\u001b[49m\u001b[43m,\u001b[49m\u001b[43m \u001b[49m\u001b[43mcopy\u001b[49m\u001b[38;5;241;43m=\u001b[39;49m\u001b[38;5;28;43;01mFalse\u001b[39;49;00m\u001b[43m)\u001b[49m\n\u001b[1;32m   1950\u001b[0m \u001b[38;5;28;01melif\u001b[39;00m ufunc \u001b[38;5;129;01min\u001b[39;00m (modf, divmod_):\n\u001b[1;32m   1951\u001b[0m     out_arr \u001b[38;5;241m=\u001b[39m \u001b[38;5;28mtuple\u001b[39m((ret_class(o, unit) \u001b[38;5;28;01mfor\u001b[39;00m o \u001b[38;5;129;01min\u001b[39;00m out_arr))\n",
      "\u001b[0;31mValueError\u001b[0m: Unable to avoid copy while creating an array as requested.\nIf using `np.array(obj, copy=False)` replace it with `np.asarray(obj)` to allow a copy when needed (no behavior change in NumPy 1.x).\nFor more details, see https://numpy.org/devdocs/numpy_2_0_migration_guide.html#adapting-to-changes-in-the-copy-keyword."
     ]
    }
   ],
   "source": [
    "yt.ProjectionPlot(\n",
    "    ds,\n",
    "    \"z\",\n",
    "    (\"ramses\", \"xHII\"),\n",
    "    width=0.0001,\n",
    "    weight_field=(\"gas\", \"number_density\"),\n",
    "    buff_size=(1000, 1000),\n",
    "    center=[0.49118094, 0.49275361, 0.49473726]\n",
    ")"
   ]
  },
  {
   "cell_type": "code",
   "execution_count": 9,
   "id": "0fd21d0a-c21c-4da7-97d7-2c1e8fe7c039",
   "metadata": {},
   "outputs": [
    {
     "name": "stderr",
     "output_type": "stream",
     "text": [
      "yt : [INFO     ] 2024-09-20 19:34:58,679 Projection completed\n",
      "yt : [INFO     ] 2024-09-20 19:34:58,679 xlim = 0.491131 0.491231\n",
      "yt : [INFO     ] 2024-09-20 19:34:58,680 ylim = 0.492704 0.492804\n",
      "yt : [INFO     ] 2024-09-20 19:34:58,681 xlim = 0.491131 0.491231\n",
      "yt : [INFO     ] 2024-09-20 19:34:58,681 ylim = 0.492704 0.492804\n"
     ]
    },
    {
     "ename": "ValueError",
     "evalue": "Unable to avoid copy while creating an array as requested.\nIf using `np.array(obj, copy=False)` replace it with `np.asarray(obj)` to allow a copy when needed (no behavior change in NumPy 1.x).\nFor more details, see https://numpy.org/devdocs/numpy_2_0_migration_guide.html#adapting-to-changes-in-the-copy-keyword.",
     "output_type": "error",
     "traceback": [
      "\u001b[0;31m---------------------------------------------------------------------------\u001b[0m",
      "\u001b[0;31mValueError\u001b[0m                                Traceback (most recent call last)",
      "Cell \u001b[0;32mIn[9], line 1\u001b[0m\n\u001b[0;32m----> 1\u001b[0m p \u001b[38;5;241m=\u001b[39m \u001b[43myt\u001b[49m\u001b[38;5;241;43m.\u001b[39;49m\u001b[43mProjectionPlot\u001b[49m\u001b[43m(\u001b[49m\u001b[43mds\u001b[49m\u001b[43m,\u001b[49m\u001b[43m \u001b[49m\u001b[38;5;124;43m\"\u001b[39;49m\u001b[38;5;124;43mz\u001b[39;49m\u001b[38;5;124;43m\"\u001b[39;49m\u001b[43m,\u001b[49m\u001b[43m \u001b[49m\u001b[43m(\u001b[49m\u001b[38;5;124;43m\"\u001b[39;49m\u001b[38;5;124;43mgas\u001b[39;49m\u001b[38;5;124;43m\"\u001b[39;49m\u001b[43m,\u001b[49m\u001b[43m \u001b[49m\u001b[38;5;124;43m\"\u001b[39;49m\u001b[38;5;124;43mnumber_density\u001b[39;49m\u001b[38;5;124;43m\"\u001b[39;49m\u001b[43m)\u001b[49m\u001b[43m,\u001b[49m\u001b[43m \u001b[49m\u001b[43mwidth\u001b[49m\u001b[38;5;241;43m=\u001b[39;49m\u001b[38;5;241;43m0.0001\u001b[39;49m\u001b[43m,\u001b[49m\n\u001b[1;32m      2\u001b[0m \u001b[43m                      \u001b[49m\u001b[43mweight_field\u001b[49m\u001b[38;5;241;43m=\u001b[39;49m\u001b[43m(\u001b[49m\u001b[38;5;124;43m\"\u001b[39;49m\u001b[38;5;124;43mgas\u001b[39;49m\u001b[38;5;124;43m\"\u001b[39;49m\u001b[43m,\u001b[49m\u001b[43m \u001b[49m\u001b[38;5;124;43m\"\u001b[39;49m\u001b[38;5;124;43mnumber_density\u001b[39;49m\u001b[38;5;124;43m\"\u001b[39;49m\u001b[43m)\u001b[49m\u001b[43m,\u001b[49m\u001b[43m \u001b[49m\u001b[43mbuff_size\u001b[49m\u001b[38;5;241;43m=\u001b[39;49m\u001b[43m(\u001b[49m\u001b[38;5;241;43m1000\u001b[39;49m\u001b[43m,\u001b[49m\u001b[43m \u001b[49m\u001b[38;5;241;43m1000\u001b[39;49m\u001b[43m)\u001b[49m\u001b[43m,\u001b[49m\n\u001b[1;32m      3\u001b[0m \u001b[43m                      \u001b[49m\u001b[43mcenter\u001b[49m\u001b[38;5;241;43m=\u001b[39;49m\u001b[43m[\u001b[49m\u001b[38;5;241;43m0.49118094\u001b[39;49m\u001b[43m,\u001b[49m\u001b[43m \u001b[49m\u001b[38;5;241;43m0.49275361\u001b[39;49m\u001b[43m,\u001b[49m\u001b[43m \u001b[49m\u001b[38;5;241;43m0.49473726\u001b[39;49m\u001b[43m]\u001b[49m\u001b[43m)\u001b[49m\n\u001b[1;32m      4\u001b[0m \u001b[38;5;66;03m# p.annotate_particles(width = (5, \"Mpc\"))\u001b[39;00m\n",
      "File \u001b[0;32m~/miniforge3/lib/python3.10/site-packages/yt/visualization/plot_window.py:2088\u001b[0m, in \u001b[0;36mAxisAlignedProjectionPlot.__init__\u001b[0;34m(self, ds, normal, fields, center, width, axes_unit, weight_field, max_level, origin, fontsize, field_parameters, data_source, method, window_size, buff_size, aspect, moment)\u001b[0m\n\u001b[1;32m   2076\u001b[0m     proj \u001b[38;5;241m=\u001b[39m ds\u001b[38;5;241m.\u001b[39mproj(\n\u001b[1;32m   2077\u001b[0m         fields,\n\u001b[1;32m   2078\u001b[0m         axis,\n\u001b[0;32m   (...)\u001b[0m\n\u001b[1;32m   2085\u001b[0m         moment\u001b[38;5;241m=\u001b[39mmoment,\n\u001b[1;32m   2086\u001b[0m     )\n\u001b[1;32m   2087\u001b[0m \u001b[38;5;28mself\u001b[39m\u001b[38;5;241m.\u001b[39mmoment \u001b[38;5;241m=\u001b[39m moment\n\u001b[0;32m-> 2088\u001b[0m \u001b[43mPWViewerMPL\u001b[49m\u001b[38;5;241;43m.\u001b[39;49m\u001b[38;5;21;43m__init__\u001b[39;49m\u001b[43m(\u001b[49m\n\u001b[1;32m   2089\u001b[0m \u001b[43m    \u001b[49m\u001b[38;5;28;43mself\u001b[39;49m\u001b[43m,\u001b[49m\n\u001b[1;32m   2090\u001b[0m \u001b[43m    \u001b[49m\u001b[43mproj\u001b[49m\u001b[43m,\u001b[49m\n\u001b[1;32m   2091\u001b[0m \u001b[43m    \u001b[49m\u001b[43mbounds\u001b[49m\u001b[43m,\u001b[49m\n\u001b[1;32m   2092\u001b[0m \u001b[43m    \u001b[49m\u001b[43mfields\u001b[49m\u001b[38;5;241;43m=\u001b[39;49m\u001b[43mfields\u001b[49m\u001b[43m,\u001b[49m\n\u001b[1;32m   2093\u001b[0m \u001b[43m    \u001b[49m\u001b[43morigin\u001b[49m\u001b[38;5;241;43m=\u001b[39;49m\u001b[43morigin\u001b[49m\u001b[43m,\u001b[49m\n\u001b[1;32m   2094\u001b[0m \u001b[43m    \u001b[49m\u001b[43mfontsize\u001b[49m\u001b[38;5;241;43m=\u001b[39;49m\u001b[43mfontsize\u001b[49m\u001b[43m,\u001b[49m\n\u001b[1;32m   2095\u001b[0m \u001b[43m    \u001b[49m\u001b[43mwindow_size\u001b[49m\u001b[38;5;241;43m=\u001b[39;49m\u001b[43mwindow_size\u001b[49m\u001b[43m,\u001b[49m\n\u001b[1;32m   2096\u001b[0m \u001b[43m    \u001b[49m\u001b[43maspect\u001b[49m\u001b[38;5;241;43m=\u001b[39;49m\u001b[43maspect\u001b[49m\u001b[43m,\u001b[49m\n\u001b[1;32m   2097\u001b[0m \u001b[43m    \u001b[49m\u001b[43mbuff_size\u001b[49m\u001b[38;5;241;43m=\u001b[39;49m\u001b[43mbuff_size\u001b[49m\u001b[43m,\u001b[49m\n\u001b[1;32m   2098\u001b[0m \u001b[43m    \u001b[49m\u001b[43mgeometry\u001b[49m\u001b[38;5;241;43m=\u001b[39;49m\u001b[43mds\u001b[49m\u001b[38;5;241;43m.\u001b[39;49m\u001b[43mgeometry\u001b[49m\u001b[43m,\u001b[49m\n\u001b[1;32m   2099\u001b[0m \u001b[43m\u001b[49m\u001b[43m)\u001b[49m\n\u001b[1;32m   2100\u001b[0m \u001b[38;5;28;01mif\u001b[39;00m axes_unit \u001b[38;5;129;01mis\u001b[39;00m \u001b[38;5;28;01mNone\u001b[39;00m:\n\u001b[1;32m   2101\u001b[0m     axes_unit \u001b[38;5;241m=\u001b[39m get_axes_unit(width, ds)\n",
      "File \u001b[0;32m~/miniforge3/lib/python3.10/site-packages/yt/visualization/plot_window.py:864\u001b[0m, in \u001b[0;36mPWViewerMPL.__init__\u001b[0;34m(self, *args, **kwargs)\u001b[0m\n\u001b[1;32m    862\u001b[0m     \u001b[38;5;28mself\u001b[39m\u001b[38;5;241m.\u001b[39m_plot_type \u001b[38;5;241m=\u001b[39m kwargs\u001b[38;5;241m.\u001b[39mpop(\u001b[38;5;124m\"\u001b[39m\u001b[38;5;124mplot_type\u001b[39m\u001b[38;5;124m\"\u001b[39m)\n\u001b[1;32m    863\u001b[0m \u001b[38;5;28mself\u001b[39m\u001b[38;5;241m.\u001b[39m_splat_color \u001b[38;5;241m=\u001b[39m kwargs\u001b[38;5;241m.\u001b[39mpop(\u001b[38;5;124m\"\u001b[39m\u001b[38;5;124msplat_color\u001b[39m\u001b[38;5;124m\"\u001b[39m, \u001b[38;5;28;01mNone\u001b[39;00m)\n\u001b[0;32m--> 864\u001b[0m \u001b[43mPlotWindow\u001b[49m\u001b[38;5;241;43m.\u001b[39;49m\u001b[38;5;21;43m__init__\u001b[39;49m\u001b[43m(\u001b[49m\u001b[38;5;28;43mself\u001b[39;49m\u001b[43m,\u001b[49m\u001b[43m \u001b[49m\u001b[38;5;241;43m*\u001b[39;49m\u001b[43margs\u001b[49m\u001b[43m,\u001b[49m\u001b[43m \u001b[49m\u001b[38;5;241;43m*\u001b[39;49m\u001b[38;5;241;43m*\u001b[39;49m\u001b[43mkwargs\u001b[49m\u001b[43m)\u001b[49m\n\u001b[1;32m    866\u001b[0m \u001b[38;5;66;03m# import type here to avoid import cycles\u001b[39;00m\n\u001b[1;32m    867\u001b[0m \u001b[38;5;66;03m# note that this import statement is actually crucial at runtime:\u001b[39;00m\n\u001b[1;32m    868\u001b[0m \u001b[38;5;66;03m# the filter methods for the present class are defined only when\u001b[39;00m\n\u001b[1;32m    869\u001b[0m \u001b[38;5;66;03m# fixed_resolution_filters is imported, so we need to guarantee\u001b[39;00m\n\u001b[1;32m    870\u001b[0m \u001b[38;5;66;03m# that it happens no later than instantiation\u001b[39;00m\n\u001b[1;32m    871\u001b[0m \u001b[38;5;28;01mfrom\u001b[39;00m \u001b[38;5;21;01myt\u001b[39;00m\u001b[38;5;21;01m.\u001b[39;00m\u001b[38;5;21;01mvisualization\u001b[39;00m\u001b[38;5;21;01m.\u001b[39;00m\u001b[38;5;21;01mplot_modifications\u001b[39;00m \u001b[38;5;28;01mimport\u001b[39;00m PlotCallback\n",
      "File \u001b[0;32m~/miniforge3/lib/python3.10/site-packages/yt/visualization/plot_window.py:252\u001b[0m, in \u001b[0;36mPlotWindow.__init__\u001b[0;34m(self, data_source, bounds, buff_size, antialias, periodic, origin, oblique, window_size, fields, fontsize, aspect, setup, geometry)\u001b[0m\n\u001b[1;32m    249\u001b[0m     \u001b[38;5;28mself\u001b[39m\u001b[38;5;241m.\u001b[39m_projection \u001b[38;5;241m=\u001b[39m get_mpl_transform(projection)\n\u001b[1;32m    250\u001b[0m     \u001b[38;5;28mself\u001b[39m\u001b[38;5;241m.\u001b[39m_transform \u001b[38;5;241m=\u001b[39m get_mpl_transform(transform)\n\u001b[0;32m--> 252\u001b[0m \u001b[38;5;28;43mself\u001b[39;49m\u001b[38;5;241;43m.\u001b[39;49m\u001b[43m_setup_plots\u001b[49m\u001b[43m(\u001b[49m\u001b[43m)\u001b[49m\n\u001b[1;32m    254\u001b[0m \u001b[38;5;28;01mfor\u001b[39;00m field \u001b[38;5;129;01min\u001b[39;00m \u001b[38;5;28mself\u001b[39m\u001b[38;5;241m.\u001b[39mdata_source\u001b[38;5;241m.\u001b[39m_determine_fields(\u001b[38;5;28mself\u001b[39m\u001b[38;5;241m.\u001b[39mfields):\n\u001b[1;32m    255\u001b[0m     finfo \u001b[38;5;241m=\u001b[39m \u001b[38;5;28mself\u001b[39m\u001b[38;5;241m.\u001b[39mdata_source\u001b[38;5;241m.\u001b[39mds\u001b[38;5;241m.\u001b[39m_get_field_info(field)\n",
      "File \u001b[0;32m~/miniforge3/lib/python3.10/site-packages/yt/visualization/plot_window.py:1013\u001b[0m, in \u001b[0;36mPWViewerMPL._setup_plots\u001b[0;34m(self)\u001b[0m\n\u001b[1;32m   1010\u001b[0m \u001b[38;5;28;01mfor\u001b[39;00m f \u001b[38;5;129;01min\u001b[39;00m field_list:\n\u001b[1;32m   1011\u001b[0m     axis_index \u001b[38;5;241m=\u001b[39m \u001b[38;5;28mself\u001b[39m\u001b[38;5;241m.\u001b[39mdata_source\u001b[38;5;241m.\u001b[39maxis\n\u001b[0;32m-> 1013\u001b[0m     xc, yc \u001b[38;5;241m=\u001b[39m \u001b[38;5;28;43mself\u001b[39;49m\u001b[38;5;241;43m.\u001b[39;49m\u001b[43m_setup_origin\u001b[49m\u001b[43m(\u001b[49m\u001b[43m)\u001b[49m\n\u001b[1;32m   1014\u001b[0m     \u001b[38;5;28;01mif\u001b[39;00m \u001b[38;5;28mself\u001b[39m\u001b[38;5;241m.\u001b[39mds\u001b[38;5;241m.\u001b[39m_uses_code_length_unit:\n\u001b[1;32m   1015\u001b[0m         \u001b[38;5;66;03m# this should happen only if the dataset was initialized with\u001b[39;00m\n\u001b[1;32m   1016\u001b[0m         \u001b[38;5;66;03m# argument unit_system=\"code\" or if it's set to have no CGS\u001b[39;00m\n\u001b[1;32m   1017\u001b[0m         \u001b[38;5;66;03m# equivalent.  This only needs to happen here in the specific\u001b[39;00m\n\u001b[1;32m   1018\u001b[0m         \u001b[38;5;66;03m# case that we're doing a computationally intense operation\u001b[39;00m\n\u001b[1;32m   1019\u001b[0m         \u001b[38;5;66;03m# like using cartopy, but it prevents crashes in that case.\u001b[39;00m\n\u001b[1;32m   1020\u001b[0m         (unit_x, unit_y) \u001b[38;5;241m=\u001b[39m (\u001b[38;5;124m\"\u001b[39m\u001b[38;5;124mcode_length\u001b[39m\u001b[38;5;124m\"\u001b[39m, \u001b[38;5;124m\"\u001b[39m\u001b[38;5;124mcode_length\u001b[39m\u001b[38;5;124m\"\u001b[39m)\n",
      "File \u001b[0;32m~/miniforge3/lib/python3.10/site-packages/yt/visualization/plot_window.py:990\u001b[0m, in \u001b[0;36mPWViewerMPL._setup_origin\u001b[0;34m(self)\u001b[0m\n\u001b[1;32m    987\u001b[0m     \u001b[38;5;28;01melif\u001b[39;00m origin[\u001b[38;5;241m1\u001b[39m] \u001b[38;5;241m==\u001b[39m \u001b[38;5;124m\"\u001b[39m\u001b[38;5;124mcenter\u001b[39m\u001b[38;5;124m\"\u001b[39m:\n\u001b[1;32m    988\u001b[0m         xc \u001b[38;5;241m=\u001b[39m (xllim \u001b[38;5;241m+\u001b[39m xrlim) \u001b[38;5;241m/\u001b[39m \u001b[38;5;241m2.0\u001b[39m\n\u001b[0;32m--> 990\u001b[0m x_in_bounds \u001b[38;5;241m=\u001b[39m \u001b[43mxc\u001b[49m\u001b[43m \u001b[49m\u001b[38;5;241;43m>\u001b[39;49m\u001b[38;5;241;43m=\u001b[39;49m\u001b[43m \u001b[49m\u001b[43mxllim\u001b[49m \u001b[38;5;129;01mand\u001b[39;00m xc \u001b[38;5;241m<\u001b[39m\u001b[38;5;241m=\u001b[39m xrlim\n\u001b[1;32m    991\u001b[0m y_in_bounds \u001b[38;5;241m=\u001b[39m yc \u001b[38;5;241m>\u001b[39m\u001b[38;5;241m=\u001b[39m yllim \u001b[38;5;129;01mand\u001b[39;00m yc \u001b[38;5;241m<\u001b[39m\u001b[38;5;241m=\u001b[39m yrlim\n\u001b[1;32m    993\u001b[0m \u001b[38;5;28;01mif\u001b[39;00m \u001b[38;5;129;01mnot\u001b[39;00m x_in_bounds \u001b[38;5;129;01mand\u001b[39;00m \u001b[38;5;129;01mnot\u001b[39;00m y_in_bounds:\n",
      "File \u001b[0;32m~/miniforge3/lib/python3.10/site-packages/unyt/array.py:1949\u001b[0m, in \u001b[0;36munyt_array.__array_ufunc__\u001b[0;34m(self, ufunc, method, *inputs, **kwargs)\u001b[0m\n\u001b[1;32m   1944\u001b[0m         \u001b[38;5;28;01mraise\u001b[39;00m \u001b[38;5;167;01mRuntimeError\u001b[39;00m(\n\u001b[1;32m   1945\u001b[0m             \u001b[38;5;124m\"\u001b[39m\u001b[38;5;124mSupport for the \u001b[39m\u001b[38;5;132;01m%s\u001b[39;00m\u001b[38;5;124m ufunc with \u001b[39m\u001b[38;5;132;01m%i\u001b[39;00m\u001b[38;5;124m inputs has not been \u001b[39m\u001b[38;5;124m\"\u001b[39m\n\u001b[1;32m   1946\u001b[0m             \u001b[38;5;124m\"\u001b[39m\u001b[38;5;124madded to unyt_array.\u001b[39m\u001b[38;5;124m\"\u001b[39m \u001b[38;5;241m%\u001b[39m (\u001b[38;5;28mstr\u001b[39m(ufunc), \u001b[38;5;28mlen\u001b[39m(inputs))\n\u001b[1;32m   1947\u001b[0m         )\n\u001b[1;32m   1948\u001b[0m \u001b[38;5;28;01mif\u001b[39;00m unit \u001b[38;5;129;01mis\u001b[39;00m \u001b[38;5;28;01mNone\u001b[39;00m:\n\u001b[0;32m-> 1949\u001b[0m     out_arr \u001b[38;5;241m=\u001b[39m \u001b[43mnp\u001b[49m\u001b[38;5;241;43m.\u001b[39;49m\u001b[43marray\u001b[49m\u001b[43m(\u001b[49m\u001b[43mout_arr\u001b[49m\u001b[43m,\u001b[49m\u001b[43m \u001b[49m\u001b[43mcopy\u001b[49m\u001b[38;5;241;43m=\u001b[39;49m\u001b[38;5;28;43;01mFalse\u001b[39;49;00m\u001b[43m)\u001b[49m\n\u001b[1;32m   1950\u001b[0m \u001b[38;5;28;01melif\u001b[39;00m ufunc \u001b[38;5;129;01min\u001b[39;00m (modf, divmod_):\n\u001b[1;32m   1951\u001b[0m     out_arr \u001b[38;5;241m=\u001b[39m \u001b[38;5;28mtuple\u001b[39m((ret_class(o, unit) \u001b[38;5;28;01mfor\u001b[39;00m o \u001b[38;5;129;01min\u001b[39;00m out_arr))\n",
      "\u001b[0;31mValueError\u001b[0m: Unable to avoid copy while creating an array as requested.\nIf using `np.array(obj, copy=False)` replace it with `np.asarray(obj)` to allow a copy when needed (no behavior change in NumPy 1.x).\nFor more details, see https://numpy.org/devdocs/numpy_2_0_migration_guide.html#adapting-to-changes-in-the-copy-keyword."
     ]
    }
   ],
   "source": [
    "p = yt.ProjectionPlot(ds, \"z\", (\"gas\", \"number_density\"), width=0.0001,\n",
    "                      weight_field=(\"gas\", \"number_density\"), buff_size=(1000, 1000),\n",
    "                      center=[0.49118094, 0.49275361, 0.49473726])\n",
    "# p.annotate_particles(width = (5, \"Mpc\"))"
   ]
  },
  {
   "cell_type": "code",
   "execution_count": null,
   "id": "530eaa7a-7d3b-46b1-bc72-a1e823f37948",
   "metadata": {},
   "outputs": [],
   "source": [
    "yt.ProjectionPlot(\n",
    "    ds,\n",
    "    \"z\",\n",
    "    (\"gas\", \"temperature\"),\n",
    "    width=0.0001,\n",
    "    weight_field=(\"gas\", \"number_density\"),\n",
    "    buff_size=(1000, 1000),\n",
    "    center=[0.49118094, 0.49275361, 0.49473726]\n",
    ")"
   ]
  },
  {
   "cell_type": "code",
   "execution_count": null,
   "id": "8d26b420-2000-4c05-abcb-31dc29e0ae4f",
   "metadata": {},
   "outputs": [],
   "source": [
    "yt.ProjectionPlot(\n",
    "    ds,\n",
    "    \"z\",\n",
    "    (\"ramses\", \"Metallicity\"),\n",
    "    width=0.0001,\n",
    "    weight_field=(\"gas\", \"number_density\"),\n",
    "    buff_size=(1000, 1000),\n",
    "    center=[0.49118094, 0.49275361, 0.49473726]\n",
    ")"
   ]
  },
  {
   "cell_type": "code",
   "execution_count": 10,
   "id": "558bfa9a-e707-4cad-ab56-5455173bbebb",
   "metadata": {},
   "outputs": [
    {
     "name": "stderr",
     "output_type": "stream",
     "text": [
      "yt : [INFO     ] 2024-09-20 19:35:48,465 xlim = 0.491131 0.491231\n",
      "yt : [INFO     ] 2024-09-20 19:35:48,465 ylim = 0.492704 0.492804\n",
      "yt : [INFO     ] 2024-09-20 19:35:48,466 xlim = 0.491131 0.491231\n",
      "yt : [INFO     ] 2024-09-20 19:35:48,466 ylim = 0.492704 0.492804\n"
     ]
    },
    {
     "ename": "ValueError",
     "evalue": "Unable to avoid copy while creating an array as requested.\nIf using `np.array(obj, copy=False)` replace it with `np.asarray(obj)` to allow a copy when needed (no behavior change in NumPy 1.x).\nFor more details, see https://numpy.org/devdocs/numpy_2_0_migration_guide.html#adapting-to-changes-in-the-copy-keyword.",
     "output_type": "error",
     "traceback": [
      "\u001b[0;31m---------------------------------------------------------------------------\u001b[0m",
      "\u001b[0;31mValueError\u001b[0m                                Traceback (most recent call last)",
      "Cell \u001b[0;32mIn[10], line 1\u001b[0m\n\u001b[0;32m----> 1\u001b[0m \u001b[43myt\u001b[49m\u001b[38;5;241;43m.\u001b[39;49m\u001b[43mSlicePlot\u001b[49m\u001b[43m(\u001b[49m\u001b[43mds\u001b[49m\u001b[43m,\u001b[49m\u001b[43m \u001b[49m\u001b[38;5;124;43m\"\u001b[39;49m\u001b[38;5;124;43mz\u001b[39;49m\u001b[38;5;124;43m\"\u001b[39;49m\u001b[43m,\u001b[49m\u001b[43m \u001b[49m\u001b[43m(\u001b[49m\u001b[38;5;124;43m\"\u001b[39;49m\u001b[38;5;124;43mgas\u001b[39;49m\u001b[38;5;124;43m\"\u001b[39;49m\u001b[43m,\u001b[49m\u001b[43m \u001b[49m\u001b[38;5;124;43m\"\u001b[39;49m\u001b[38;5;124;43mnumber_density\u001b[39;49m\u001b[38;5;124;43m\"\u001b[39;49m\u001b[43m)\u001b[49m\u001b[43m,\u001b[49m\u001b[43m \u001b[49m\u001b[43mwidth\u001b[49m\u001b[38;5;241;43m=\u001b[39;49m\u001b[38;5;241;43m0.0001\u001b[39;49m\u001b[43m,\u001b[49m\u001b[43mbuff_size\u001b[49m\u001b[38;5;241;43m=\u001b[39;49m\u001b[43m(\u001b[49m\u001b[38;5;241;43m1000\u001b[39;49m\u001b[43m,\u001b[49m\u001b[43m \u001b[49m\u001b[38;5;241;43m1000\u001b[39;49m\u001b[43m)\u001b[49m\u001b[43m,\u001b[49m\u001b[43mcenter\u001b[49m\u001b[38;5;241;43m=\u001b[39;49m\u001b[43m[\u001b[49m\u001b[38;5;241;43m0.49118094\u001b[39;49m\u001b[43m,\u001b[49m\u001b[43m \u001b[49m\u001b[38;5;241;43m0.49275361\u001b[39;49m\u001b[43m,\u001b[49m\u001b[43m \u001b[49m\u001b[38;5;241;43m0.49473726\u001b[39;49m\u001b[43m]\u001b[49m\u001b[43m)\u001b[49m\n",
      "File \u001b[0;32m~/miniforge3/lib/python3.10/site-packages/yt/visualization/plot_window.py:1841\u001b[0m, in \u001b[0;36mAxisAlignedSlicePlot.__init__\u001b[0;34m(self, ds, normal, fields, center, width, axes_unit, origin, fontsize, field_parameters, window_size, aspect, data_source, buff_size, north_vector)\u001b[0m\n\u001b[1;32m   1839\u001b[0m     slc\u001b[38;5;241m.\u001b[39mget_data(fields)\n\u001b[1;32m   1840\u001b[0m validate_mesh_fields(slc, fields)\n\u001b[0;32m-> 1841\u001b[0m \u001b[43mPWViewerMPL\u001b[49m\u001b[38;5;241;43m.\u001b[39;49m\u001b[38;5;21;43m__init__\u001b[39;49m\u001b[43m(\u001b[49m\n\u001b[1;32m   1842\u001b[0m \u001b[43m    \u001b[49m\u001b[38;5;28;43mself\u001b[39;49m\u001b[43m,\u001b[49m\n\u001b[1;32m   1843\u001b[0m \u001b[43m    \u001b[49m\u001b[43mslc\u001b[49m\u001b[43m,\u001b[49m\n\u001b[1;32m   1844\u001b[0m \u001b[43m    \u001b[49m\u001b[43mbounds\u001b[49m\u001b[43m,\u001b[49m\n\u001b[1;32m   1845\u001b[0m \u001b[43m    \u001b[49m\u001b[43morigin\u001b[49m\u001b[38;5;241;43m=\u001b[39;49m\u001b[43morigin\u001b[49m\u001b[43m,\u001b[49m\n\u001b[1;32m   1846\u001b[0m \u001b[43m    \u001b[49m\u001b[43mfontsize\u001b[49m\u001b[38;5;241;43m=\u001b[39;49m\u001b[43mfontsize\u001b[49m\u001b[43m,\u001b[49m\n\u001b[1;32m   1847\u001b[0m \u001b[43m    \u001b[49m\u001b[43mfields\u001b[49m\u001b[38;5;241;43m=\u001b[39;49m\u001b[43mfields\u001b[49m\u001b[43m,\u001b[49m\n\u001b[1;32m   1848\u001b[0m \u001b[43m    \u001b[49m\u001b[43mwindow_size\u001b[49m\u001b[38;5;241;43m=\u001b[39;49m\u001b[43mwindow_size\u001b[49m\u001b[43m,\u001b[49m\n\u001b[1;32m   1849\u001b[0m \u001b[43m    \u001b[49m\u001b[43maspect\u001b[49m\u001b[38;5;241;43m=\u001b[39;49m\u001b[43maspect\u001b[49m\u001b[43m,\u001b[49m\n\u001b[1;32m   1850\u001b[0m \u001b[43m    \u001b[49m\u001b[43mbuff_size\u001b[49m\u001b[38;5;241;43m=\u001b[39;49m\u001b[43mbuff_size\u001b[49m\u001b[43m,\u001b[49m\n\u001b[1;32m   1851\u001b[0m \u001b[43m    \u001b[49m\u001b[43mgeometry\u001b[49m\u001b[38;5;241;43m=\u001b[39;49m\u001b[43mds\u001b[49m\u001b[38;5;241;43m.\u001b[39;49m\u001b[43mgeometry\u001b[49m\u001b[43m,\u001b[49m\n\u001b[1;32m   1852\u001b[0m \u001b[43m\u001b[49m\u001b[43m)\u001b[49m\n\u001b[1;32m   1853\u001b[0m \u001b[38;5;28;01mif\u001b[39;00m axes_unit \u001b[38;5;129;01mis\u001b[39;00m \u001b[38;5;28;01mNone\u001b[39;00m:\n\u001b[1;32m   1854\u001b[0m     axes_unit \u001b[38;5;241m=\u001b[39m get_axes_unit(width, ds)\n",
      "File \u001b[0;32m~/miniforge3/lib/python3.10/site-packages/yt/visualization/plot_window.py:864\u001b[0m, in \u001b[0;36mPWViewerMPL.__init__\u001b[0;34m(self, *args, **kwargs)\u001b[0m\n\u001b[1;32m    862\u001b[0m     \u001b[38;5;28mself\u001b[39m\u001b[38;5;241m.\u001b[39m_plot_type \u001b[38;5;241m=\u001b[39m kwargs\u001b[38;5;241m.\u001b[39mpop(\u001b[38;5;124m\"\u001b[39m\u001b[38;5;124mplot_type\u001b[39m\u001b[38;5;124m\"\u001b[39m)\n\u001b[1;32m    863\u001b[0m \u001b[38;5;28mself\u001b[39m\u001b[38;5;241m.\u001b[39m_splat_color \u001b[38;5;241m=\u001b[39m kwargs\u001b[38;5;241m.\u001b[39mpop(\u001b[38;5;124m\"\u001b[39m\u001b[38;5;124msplat_color\u001b[39m\u001b[38;5;124m\"\u001b[39m, \u001b[38;5;28;01mNone\u001b[39;00m)\n\u001b[0;32m--> 864\u001b[0m \u001b[43mPlotWindow\u001b[49m\u001b[38;5;241;43m.\u001b[39;49m\u001b[38;5;21;43m__init__\u001b[39;49m\u001b[43m(\u001b[49m\u001b[38;5;28;43mself\u001b[39;49m\u001b[43m,\u001b[49m\u001b[43m \u001b[49m\u001b[38;5;241;43m*\u001b[39;49m\u001b[43margs\u001b[49m\u001b[43m,\u001b[49m\u001b[43m \u001b[49m\u001b[38;5;241;43m*\u001b[39;49m\u001b[38;5;241;43m*\u001b[39;49m\u001b[43mkwargs\u001b[49m\u001b[43m)\u001b[49m\n\u001b[1;32m    866\u001b[0m \u001b[38;5;66;03m# import type here to avoid import cycles\u001b[39;00m\n\u001b[1;32m    867\u001b[0m \u001b[38;5;66;03m# note that this import statement is actually crucial at runtime:\u001b[39;00m\n\u001b[1;32m    868\u001b[0m \u001b[38;5;66;03m# the filter methods for the present class are defined only when\u001b[39;00m\n\u001b[1;32m    869\u001b[0m \u001b[38;5;66;03m# fixed_resolution_filters is imported, so we need to guarantee\u001b[39;00m\n\u001b[1;32m    870\u001b[0m \u001b[38;5;66;03m# that it happens no later than instantiation\u001b[39;00m\n\u001b[1;32m    871\u001b[0m \u001b[38;5;28;01mfrom\u001b[39;00m \u001b[38;5;21;01myt\u001b[39;00m\u001b[38;5;21;01m.\u001b[39;00m\u001b[38;5;21;01mvisualization\u001b[39;00m\u001b[38;5;21;01m.\u001b[39;00m\u001b[38;5;21;01mplot_modifications\u001b[39;00m \u001b[38;5;28;01mimport\u001b[39;00m PlotCallback\n",
      "File \u001b[0;32m~/miniforge3/lib/python3.10/site-packages/yt/visualization/plot_window.py:252\u001b[0m, in \u001b[0;36mPlotWindow.__init__\u001b[0;34m(self, data_source, bounds, buff_size, antialias, periodic, origin, oblique, window_size, fields, fontsize, aspect, setup, geometry)\u001b[0m\n\u001b[1;32m    249\u001b[0m     \u001b[38;5;28mself\u001b[39m\u001b[38;5;241m.\u001b[39m_projection \u001b[38;5;241m=\u001b[39m get_mpl_transform(projection)\n\u001b[1;32m    250\u001b[0m     \u001b[38;5;28mself\u001b[39m\u001b[38;5;241m.\u001b[39m_transform \u001b[38;5;241m=\u001b[39m get_mpl_transform(transform)\n\u001b[0;32m--> 252\u001b[0m \u001b[38;5;28;43mself\u001b[39;49m\u001b[38;5;241;43m.\u001b[39;49m\u001b[43m_setup_plots\u001b[49m\u001b[43m(\u001b[49m\u001b[43m)\u001b[49m\n\u001b[1;32m    254\u001b[0m \u001b[38;5;28;01mfor\u001b[39;00m field \u001b[38;5;129;01min\u001b[39;00m \u001b[38;5;28mself\u001b[39m\u001b[38;5;241m.\u001b[39mdata_source\u001b[38;5;241m.\u001b[39m_determine_fields(\u001b[38;5;28mself\u001b[39m\u001b[38;5;241m.\u001b[39mfields):\n\u001b[1;32m    255\u001b[0m     finfo \u001b[38;5;241m=\u001b[39m \u001b[38;5;28mself\u001b[39m\u001b[38;5;241m.\u001b[39mdata_source\u001b[38;5;241m.\u001b[39mds\u001b[38;5;241m.\u001b[39m_get_field_info(field)\n",
      "File \u001b[0;32m~/miniforge3/lib/python3.10/site-packages/yt/visualization/plot_window.py:1013\u001b[0m, in \u001b[0;36mPWViewerMPL._setup_plots\u001b[0;34m(self)\u001b[0m\n\u001b[1;32m   1010\u001b[0m \u001b[38;5;28;01mfor\u001b[39;00m f \u001b[38;5;129;01min\u001b[39;00m field_list:\n\u001b[1;32m   1011\u001b[0m     axis_index \u001b[38;5;241m=\u001b[39m \u001b[38;5;28mself\u001b[39m\u001b[38;5;241m.\u001b[39mdata_source\u001b[38;5;241m.\u001b[39maxis\n\u001b[0;32m-> 1013\u001b[0m     xc, yc \u001b[38;5;241m=\u001b[39m \u001b[38;5;28;43mself\u001b[39;49m\u001b[38;5;241;43m.\u001b[39;49m\u001b[43m_setup_origin\u001b[49m\u001b[43m(\u001b[49m\u001b[43m)\u001b[49m\n\u001b[1;32m   1014\u001b[0m     \u001b[38;5;28;01mif\u001b[39;00m \u001b[38;5;28mself\u001b[39m\u001b[38;5;241m.\u001b[39mds\u001b[38;5;241m.\u001b[39m_uses_code_length_unit:\n\u001b[1;32m   1015\u001b[0m         \u001b[38;5;66;03m# this should happen only if the dataset was initialized with\u001b[39;00m\n\u001b[1;32m   1016\u001b[0m         \u001b[38;5;66;03m# argument unit_system=\"code\" or if it's set to have no CGS\u001b[39;00m\n\u001b[1;32m   1017\u001b[0m         \u001b[38;5;66;03m# equivalent.  This only needs to happen here in the specific\u001b[39;00m\n\u001b[1;32m   1018\u001b[0m         \u001b[38;5;66;03m# case that we're doing a computationally intense operation\u001b[39;00m\n\u001b[1;32m   1019\u001b[0m         \u001b[38;5;66;03m# like using cartopy, but it prevents crashes in that case.\u001b[39;00m\n\u001b[1;32m   1020\u001b[0m         (unit_x, unit_y) \u001b[38;5;241m=\u001b[39m (\u001b[38;5;124m\"\u001b[39m\u001b[38;5;124mcode_length\u001b[39m\u001b[38;5;124m\"\u001b[39m, \u001b[38;5;124m\"\u001b[39m\u001b[38;5;124mcode_length\u001b[39m\u001b[38;5;124m\"\u001b[39m)\n",
      "File \u001b[0;32m~/miniforge3/lib/python3.10/site-packages/yt/visualization/plot_window.py:990\u001b[0m, in \u001b[0;36mPWViewerMPL._setup_origin\u001b[0;34m(self)\u001b[0m\n\u001b[1;32m    987\u001b[0m     \u001b[38;5;28;01melif\u001b[39;00m origin[\u001b[38;5;241m1\u001b[39m] \u001b[38;5;241m==\u001b[39m \u001b[38;5;124m\"\u001b[39m\u001b[38;5;124mcenter\u001b[39m\u001b[38;5;124m\"\u001b[39m:\n\u001b[1;32m    988\u001b[0m         xc \u001b[38;5;241m=\u001b[39m (xllim \u001b[38;5;241m+\u001b[39m xrlim) \u001b[38;5;241m/\u001b[39m \u001b[38;5;241m2.0\u001b[39m\n\u001b[0;32m--> 990\u001b[0m x_in_bounds \u001b[38;5;241m=\u001b[39m \u001b[43mxc\u001b[49m\u001b[43m \u001b[49m\u001b[38;5;241;43m>\u001b[39;49m\u001b[38;5;241;43m=\u001b[39;49m\u001b[43m \u001b[49m\u001b[43mxllim\u001b[49m \u001b[38;5;129;01mand\u001b[39;00m xc \u001b[38;5;241m<\u001b[39m\u001b[38;5;241m=\u001b[39m xrlim\n\u001b[1;32m    991\u001b[0m y_in_bounds \u001b[38;5;241m=\u001b[39m yc \u001b[38;5;241m>\u001b[39m\u001b[38;5;241m=\u001b[39m yllim \u001b[38;5;129;01mand\u001b[39;00m yc \u001b[38;5;241m<\u001b[39m\u001b[38;5;241m=\u001b[39m yrlim\n\u001b[1;32m    993\u001b[0m \u001b[38;5;28;01mif\u001b[39;00m \u001b[38;5;129;01mnot\u001b[39;00m x_in_bounds \u001b[38;5;129;01mand\u001b[39;00m \u001b[38;5;129;01mnot\u001b[39;00m y_in_bounds:\n",
      "File \u001b[0;32m~/miniforge3/lib/python3.10/site-packages/unyt/array.py:1949\u001b[0m, in \u001b[0;36munyt_array.__array_ufunc__\u001b[0;34m(self, ufunc, method, *inputs, **kwargs)\u001b[0m\n\u001b[1;32m   1944\u001b[0m         \u001b[38;5;28;01mraise\u001b[39;00m \u001b[38;5;167;01mRuntimeError\u001b[39;00m(\n\u001b[1;32m   1945\u001b[0m             \u001b[38;5;124m\"\u001b[39m\u001b[38;5;124mSupport for the \u001b[39m\u001b[38;5;132;01m%s\u001b[39;00m\u001b[38;5;124m ufunc with \u001b[39m\u001b[38;5;132;01m%i\u001b[39;00m\u001b[38;5;124m inputs has not been \u001b[39m\u001b[38;5;124m\"\u001b[39m\n\u001b[1;32m   1946\u001b[0m             \u001b[38;5;124m\"\u001b[39m\u001b[38;5;124madded to unyt_array.\u001b[39m\u001b[38;5;124m\"\u001b[39m \u001b[38;5;241m%\u001b[39m (\u001b[38;5;28mstr\u001b[39m(ufunc), \u001b[38;5;28mlen\u001b[39m(inputs))\n\u001b[1;32m   1947\u001b[0m         )\n\u001b[1;32m   1948\u001b[0m \u001b[38;5;28;01mif\u001b[39;00m unit \u001b[38;5;129;01mis\u001b[39;00m \u001b[38;5;28;01mNone\u001b[39;00m:\n\u001b[0;32m-> 1949\u001b[0m     out_arr \u001b[38;5;241m=\u001b[39m \u001b[43mnp\u001b[49m\u001b[38;5;241;43m.\u001b[39;49m\u001b[43marray\u001b[49m\u001b[43m(\u001b[49m\u001b[43mout_arr\u001b[49m\u001b[43m,\u001b[49m\u001b[43m \u001b[49m\u001b[43mcopy\u001b[49m\u001b[38;5;241;43m=\u001b[39;49m\u001b[38;5;28;43;01mFalse\u001b[39;49;00m\u001b[43m)\u001b[49m\n\u001b[1;32m   1950\u001b[0m \u001b[38;5;28;01melif\u001b[39;00m ufunc \u001b[38;5;129;01min\u001b[39;00m (modf, divmod_):\n\u001b[1;32m   1951\u001b[0m     out_arr \u001b[38;5;241m=\u001b[39m \u001b[38;5;28mtuple\u001b[39m((ret_class(o, unit) \u001b[38;5;28;01mfor\u001b[39;00m o \u001b[38;5;129;01min\u001b[39;00m out_arr))\n",
      "\u001b[0;31mValueError\u001b[0m: Unable to avoid copy while creating an array as requested.\nIf using `np.array(obj, copy=False)` replace it with `np.asarray(obj)` to allow a copy when needed (no behavior change in NumPy 1.x).\nFor more details, see https://numpy.org/devdocs/numpy_2_0_migration_guide.html#adapting-to-changes-in-the-copy-keyword."
     ]
    }
   ],
   "source": [
    "yt.SlicePlot(ds, \"z\", (\"gas\", \"number_density\"), width=0.0001,buff_size=(1000, 1000),center=[0.49118094, 0.49275361, 0.49473726])"
   ]
  },
  {
   "cell_type": "code",
   "execution_count": null,
   "id": "d2d0a144-ffba-4995-ad5f-e317182610af",
   "metadata": {},
   "outputs": [],
   "source": []
  }
 ],
 "metadata": {
  "kernelspec": {
   "display_name": "Python 3 (ipykernel)",
   "language": "python",
   "name": "python3"
  },
  "language_info": {
   "codemirror_mode": {
    "name": "ipython",
    "version": 3
   },
   "file_extension": ".py",
   "mimetype": "text/x-python",
   "name": "python",
   "nbconvert_exporter": "python",
   "pygments_lexer": "ipython3",
   "version": "3.10.14"
  }
 },
 "nbformat": 4,
 "nbformat_minor": 5
}
