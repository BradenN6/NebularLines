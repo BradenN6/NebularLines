{
 "cells": [
  {
   "cell_type": "code",
   "execution_count": 1,
   "id": "0c3e17b1-eb40-4500-99bc-326a4df40401",
   "metadata": {},
   "outputs": [],
   "source": [
    "# importing packages\n",
    "import pandas as pd\n",
    "import numpy as np\n",
    "import os\n",
    "import matplotlib.pyplot as plt"
   ]
  },
  {
   "cell_type": "code",
   "execution_count": 2,
   "id": "4a39ac07-abcb-4ce6-b256-df6f69c35f6c",
   "metadata": {},
   "outputs": [
    {
     "name": "stderr",
     "output_type": "stream",
     "text": [
      "yt : [INFO     ] 2024-09-25 17:07:10,555 Parameters: current_time              = 4.311420483661945\n",
      "yt : [INFO     ] 2024-09-25 17:07:10,556 Parameters: domain_dimensions         = [64 64 64]\n",
      "yt : [INFO     ] 2024-09-25 17:07:10,556 Parameters: domain_left_edge          = [0. 0. 0.]\n",
      "yt : [INFO     ] 2024-09-25 17:07:10,557 Parameters: domain_right_edge         = [1. 1. 1.]\n",
      "yt : [INFO     ] 2024-09-25 17:07:10,557 Parameters: cosmological_simulation   = 1\n",
      "yt : [INFO     ] 2024-09-25 17:07:10,557 Parameters: current_redshift          = 12.171087046255657\n",
      "yt : [INFO     ] 2024-09-25 17:07:10,557 Parameters: omega_lambda              = 0.685000002384186\n",
      "yt : [INFO     ] 2024-09-25 17:07:10,557 Parameters: omega_matter              = 0.314999997615814\n",
      "yt : [INFO     ] 2024-09-25 17:07:10,558 Parameters: omega_radiation           = 0.0\n",
      "yt : [INFO     ] 2024-09-25 17:07:10,558 Parameters: hubble_constant           = 0.674000015258789\n"
     ]
    }
   ],
   "source": [
    "import yt\n",
    "# Load the dataset.\n",
    "ds = yt.load(\"/Users/bnowicki/Documents/Research/Ricotti/output_00273\")"
   ]
  },
  {
   "cell_type": "code",
   "execution_count": 3,
   "id": "0aa6229b-a725-4648-8759-66b699da2f38",
   "metadata": {},
   "outputs": [
    {
     "name": "stderr",
     "output_type": "stream",
     "text": [
      "yt : [INFO     ] 2024-09-25 17:07:12,817 Detected RAMSES-RT file WITH IR trapping.\n",
      "yt : [WARNING  ] 2024-09-25 17:07:12,822 Detected 4 extra particle fields assuming kind `double`. Consider using the `extra_particle_fields` keyword argument if you have unexpected behavior.\n",
      "yt : [WARNING  ] 2024-09-25 17:07:17,036 This output has no cooling fields\n"
     ]
    },
    {
     "name": "stdout",
     "output_type": "stream",
     "text": [
      "['deposit', 'gas', 'gravity', 'index', 'io', 'nbody', 'ramses', 'ramses-rt', 'rt', 'sink', 'sink_csv']\n",
      "['H_nuclei_density', 'H_p1_density', 'H_p1_fraction', 'H_p1_mass', 'H_p1_number_density', 'He_nuclei_density', 'He_p1_density', 'He_p1_fraction', 'He_p1_mass', 'He_p1_number_density', 'He_p2_density', 'He_p2_fraction', 'He_p2_mass', 'He_p2_number_density', 'acceleration_x', 'acceleration_y', 'acceleration_z', 'angular_momentum_magnitude', 'angular_momentum_x', 'angular_momentum_y', 'angular_momentum_z', 'averaged_density', 'baroclinic_vorticity_magnitude', 'baroclinic_vorticity_x', 'baroclinic_vorticity_y', 'baroclinic_vorticity_z', 'baryon_overdensity', 'cell_mass', 'cell_volume', 'courant_time_step', 'cutting_plane_velocity_x', 'cutting_plane_velocity_y', 'cutting_plane_velocity_z', 'density', 'density_gradient_magnitude', 'density_gradient_x', 'density_gradient_y', 'density_gradient_z', 'dx', 'dy', 'dynamical_time', 'dz', 'four_velocity_magnitude', 'four_velocity_t', 'four_velocity_x', 'four_velocity_y', 'four_velocity_z', 'jeans_mass', 'kT', 'kinetic_energy_density', 'lorentz_factor', 'mach_number', 'mass', 'mean_molecular_weight', 'metal_mass', 'metallicity', 'momentum_density_x', 'momentum_density_y', 'momentum_density_z', 'momentum_x', 'momentum_y', 'momentum_z', 'number_density', 'path_element_x', 'path_element_y', 'path_element_z', 'potential', 'potential_energy', 'pres_IR', 'pressure', 'pressure_IR', 'pressure_gradient_magnitude', 'pressure_gradient_x', 'pressure_gradient_y', 'pressure_gradient_z', 'radial_mach_number', 'radial_velocity', 'radial_velocity_absolute', 'relative_velocity_x', 'relative_velocity_y', 'relative_velocity_z', 'shear', 'shear_criterion', 'shear_mach', 'sound_speed', 'specific_angular_momentum_magnitude', 'specific_angular_momentum_x', 'specific_angular_momentum_y', 'specific_angular_momentum_z', 'tangential_over_velocity_magnitude', 'tangential_velocity', 'temp_IR', 'temperature', 'velocity_cylindrical_radius', 'velocity_cylindrical_theta', 'velocity_cylindrical_z', 'velocity_divergence', 'velocity_divergence_absolute', 'velocity_los', 'velocity_magnitude', 'velocity_spherical_phi', 'velocity_spherical_radius', 'velocity_spherical_theta', 'velocity_x', 'velocity_y', 'velocity_z', 'vertex_x', 'vertex_y', 'vertex_z', 'volume', 'vorticity_growth_magnitude', 'vorticity_growth_magnitude_absolute', 'vorticity_growth_timescale', 'vorticity_growth_x', 'vorticity_growth_y', 'vorticity_growth_z', 'vorticity_magnitude', 'vorticity_squared', 'vorticity_stretching_magnitude', 'vorticity_stretching_x', 'vorticity_stretching_y', 'vorticity_stretching_z', 'vorticity_x', 'vorticity_y', 'vorticity_z', 'x', 'y', 'z']\n"
     ]
    },
    {
     "data": {
      "application/vnd.jupyter.widget-view+json": {
       "model_id": "276223daf9294b6ba5405756bffcb14c",
       "version_major": 2,
       "version_minor": 0
      },
      "text/plain": [
       "Tab(children=(Output(), Output(), Output(), Output(), Output(), Output(), Output(), Output(), Output(), Output…"
      ]
     },
     "metadata": {},
     "output_type": "display_data"
    }
   ],
   "source": [
    "print(dir(ds.fields))\n",
    "#print(dir(ds.fields.ramses-rt))\n",
    "print(dir(ds.fields.gas))\n",
    "ds.fields"
   ]
  },
  {
   "cell_type": "code",
   "execution_count": 4,
   "id": "0a9c9bc8-4466-4dab-8254-a0b3edfcfa8c",
   "metadata": {},
   "outputs": [
    {
     "name": "stderr",
     "output_type": "stream",
     "text": [
      "yt : [INFO     ] 2024-09-25 17:07:31,400 Parameters: current_time              = 4.311420483661945\n",
      "yt : [INFO     ] 2024-09-25 17:07:31,400 Parameters: domain_dimensions         = [64 64 64]\n",
      "yt : [INFO     ] 2024-09-25 17:07:31,400 Parameters: domain_left_edge          = [0. 0. 0.]\n",
      "yt : [INFO     ] 2024-09-25 17:07:31,400 Parameters: domain_right_edge         = [1. 1. 1.]\n",
      "yt : [INFO     ] 2024-09-25 17:07:31,401 Parameters: cosmological_simulation   = 1\n",
      "yt : [INFO     ] 2024-09-25 17:07:31,401 Parameters: current_redshift          = 12.171087046255657\n",
      "yt : [INFO     ] 2024-09-25 17:07:31,401 Parameters: omega_lambda              = 0.685000002384186\n",
      "yt : [INFO     ] 2024-09-25 17:07:31,401 Parameters: omega_matter              = 0.314999997615814\n",
      "yt : [INFO     ] 2024-09-25 17:07:31,402 Parameters: omega_radiation           = 0.0\n",
      "yt : [INFO     ] 2024-09-25 17:07:31,402 Parameters: hubble_constant           = 0.674000015258789\n"
     ]
    }
   ],
   "source": [
    "cell_fields = [\n",
    "    \"Density\",\n",
    "    \"x-velocity\",\n",
    "    \"y-velocity\",\n",
    "    \"z-velocity\",\n",
    "    \"Pressure\",\n",
    "    \"Metallicity\",\n",
    "    # \"dark_matter_density\",\n",
    "    \"xHI\",\n",
    "    \"xHII\",\n",
    "    \"xHeII\",\n",
    "    \"xHeIII\",\n",
    "]\n",
    "epf = [\n",
    "    (\"particle_family\", \"b\"),\n",
    "    (\"particle_tag\", \"b\"),\n",
    "    (\"particle_birth_epoch\", \"d\"),\n",
    "    (\"particle_metallicity\", \"d\"),\n",
    "]\n",
    "\n",
    "f1 = \"/Users/bnowicki/Documents/Research/Ricotti/output_00273\"\n",
    "\n",
    "#f2 = \"output_00274/info_00274.txt\"\n",
    "ds = yt.load(f1, fields=cell_fields, extra_particle_fields=epf)\n",
    "#ad_psfc = pre_sfc_ds.all_data()"
   ]
  },
  {
   "cell_type": "code",
   "execution_count": 5,
   "id": "8beb2c35-8daa-476c-b3d5-1e585b150ebd",
   "metadata": {},
   "outputs": [],
   "source": [
    "def _ion_param(field, data): \n",
    "    photon=data['ramses-rt', 'Photon_density_1']+data['ramses-rt', 'Photon_density_2'] + data['ramses-rt', 'Photon_density_3'] + data['ramses-rt', 'Photon_density_4']\n",
    "\n",
    "    return photon/data['gas', 'number_density']  \n",
    "\n",
    "yt.add_field(\n",
    "    ('gas', 'ion-param'), \n",
    "    function=_ion_param, \n",
    "    sampling_type=\"cell\", \n",
    "    units=\"cm**3\", \n",
    "    force_override=True\n",
    ")"
   ]
  },
  {
   "cell_type": "code",
   "execution_count": 6,
   "id": "32f2ed7c-247b-4eb7-b8f3-9d135a3312a9",
   "metadata": {},
   "outputs": [
    {
     "name": "stderr",
     "output_type": "stream",
     "text": [
      "yt : [WARNING  ] 2024-09-25 17:07:49,657 This output has no cooling fields\n"
     ]
    },
    {
     "ename": "YTFieldNotFound",
     "evalue": "Could not find field ('ramses-rt', 'Photon_density_1') in info_00273.",
     "output_type": "error",
     "traceback": [
      "\u001b[0;31m---------------------------------------------------------------------------\u001b[0m",
      "\u001b[0;31mYTFieldNotFound\u001b[0m                           Traceback (most recent call last)",
      "Cell \u001b[0;32mIn[6], line 1\u001b[0m\n\u001b[0;32m----> 1\u001b[0m p \u001b[38;5;241m=\u001b[39m \u001b[43myt\u001b[49m\u001b[38;5;241;43m.\u001b[39;49m\u001b[43mProjectionPlot\u001b[49m\u001b[43m(\u001b[49m\u001b[43mds\u001b[49m\u001b[43m,\u001b[49m\u001b[43m \u001b[49m\u001b[38;5;124;43m\"\u001b[39;49m\u001b[38;5;124;43mz\u001b[39;49m\u001b[38;5;124;43m\"\u001b[39;49m\u001b[43m,\u001b[49m\u001b[43m \u001b[49m\u001b[43m(\u001b[49m\u001b[38;5;124;43m\"\u001b[39;49m\u001b[38;5;124;43mgas\u001b[39;49m\u001b[38;5;124;43m\"\u001b[39;49m\u001b[43m,\u001b[49m\u001b[43m \u001b[49m\u001b[38;5;124;43m\"\u001b[39;49m\u001b[38;5;124;43mnumber_density\u001b[39;49m\u001b[38;5;124;43m\"\u001b[39;49m\u001b[43m)\u001b[49m\u001b[43m,\u001b[49m\u001b[43m \u001b[49m\u001b[43mwidth\u001b[49m\u001b[38;5;241;43m=\u001b[39;49m\u001b[38;5;241;43m0.0001\u001b[39;49m\u001b[43m,\u001b[49m\n\u001b[1;32m      2\u001b[0m \u001b[43m                      \u001b[49m\u001b[43mweight_field\u001b[49m\u001b[38;5;241;43m=\u001b[39;49m\u001b[43m(\u001b[49m\u001b[38;5;124;43m\"\u001b[39;49m\u001b[38;5;124;43mgas\u001b[39;49m\u001b[38;5;124;43m\"\u001b[39;49m\u001b[43m,\u001b[49m\u001b[43m \u001b[49m\u001b[38;5;124;43m\"\u001b[39;49m\u001b[38;5;124;43mnumber_density\u001b[39;49m\u001b[38;5;124;43m\"\u001b[39;49m\u001b[43m)\u001b[49m\u001b[43m,\u001b[49m\u001b[43m \u001b[49m\u001b[43mbuff_size\u001b[49m\u001b[38;5;241;43m=\u001b[39;49m\u001b[43m(\u001b[49m\u001b[38;5;241;43m1000\u001b[39;49m\u001b[43m,\u001b[49m\u001b[43m \u001b[49m\u001b[38;5;241;43m1000\u001b[39;49m\u001b[43m)\u001b[49m\u001b[43m,\u001b[49m\n\u001b[1;32m      3\u001b[0m \u001b[43m                      \u001b[49m\u001b[43mcenter\u001b[49m\u001b[38;5;241;43m=\u001b[39;49m\u001b[43m[\u001b[49m\u001b[38;5;241;43m0.49118094\u001b[39;49m\u001b[43m,\u001b[49m\u001b[43m \u001b[49m\u001b[38;5;241;43m0.49275361\u001b[39;49m\u001b[43m,\u001b[49m\u001b[43m \u001b[49m\u001b[38;5;241;43m0.49473726\u001b[39;49m\u001b[43m]\u001b[49m\u001b[43m)\u001b[49m\n\u001b[1;32m      5\u001b[0m p\u001b[38;5;241m.\u001b[39mshow()\n",
      "File \u001b[0;32m~/miniforge3/lib/python3.10/site-packages/yt/visualization/plot_window.py:2060\u001b[0m, in \u001b[0;36mAxisAlignedProjectionPlot.__init__\u001b[0;34m(self, ds, normal, fields, center, width, axes_unit, weight_field, max_level, origin, fontsize, field_parameters, data_source, method, window_size, buff_size, aspect, moment)\u001b[0m\n\u001b[1;32m   2056\u001b[0m     field_parameters \u001b[38;5;241m=\u001b[39m {}\n\u001b[1;32m   2058\u001b[0m \u001b[38;5;66;03m# We don't use the plot's data source for validation like in the other\u001b[39;00m\n\u001b[1;32m   2059\u001b[0m \u001b[38;5;66;03m# plotting classes to avoid an exception\u001b[39;00m\n\u001b[0;32m-> 2060\u001b[0m test_data_source \u001b[38;5;241m=\u001b[39m \u001b[43mds\u001b[49m\u001b[38;5;241;43m.\u001b[39;49m\u001b[43mall_data\u001b[49m\u001b[43m(\u001b[49m\u001b[43m)\u001b[49m\n\u001b[1;32m   2061\u001b[0m validate_mesh_fields(test_data_source, fields)\n\u001b[1;32m   2063\u001b[0m \u001b[38;5;28;01mif\u001b[39;00m \u001b[38;5;28misinstance\u001b[39m(ds, YTSpatialPlotDataset):\n",
      "File \u001b[0;32m~/miniforge3/lib/python3.10/site-packages/yt/data_objects/static_output.py:1194\u001b[0m, in \u001b[0;36mDataset.all_data\u001b[0;34m(self, find_max, **kwargs)\u001b[0m\n\u001b[1;32m   1189\u001b[0m \u001b[38;5;28;01mdef\u001b[39;00m \u001b[38;5;21mall_data\u001b[39m(\u001b[38;5;28mself\u001b[39m, find_max\u001b[38;5;241m=\u001b[39m\u001b[38;5;28;01mFalse\u001b[39;00m, \u001b[38;5;241m*\u001b[39m\u001b[38;5;241m*\u001b[39mkwargs):\n\u001b[1;32m   1190\u001b[0m \u001b[38;5;250m    \u001b[39m\u001b[38;5;124;03m\"\"\"\u001b[39;00m\n\u001b[1;32m   1191\u001b[0m \u001b[38;5;124;03m    all_data is a wrapper to the Region object for creating a region\u001b[39;00m\n\u001b[1;32m   1192\u001b[0m \u001b[38;5;124;03m    which covers the entire simulation domain.\u001b[39;00m\n\u001b[1;32m   1193\u001b[0m \u001b[38;5;124;03m    \"\"\"\u001b[39;00m\n\u001b[0;32m-> 1194\u001b[0m     \u001b[38;5;28;43mself\u001b[39;49m\u001b[38;5;241;43m.\u001b[39;49m\u001b[43mindex\u001b[49m\n\u001b[1;32m   1195\u001b[0m     \u001b[38;5;28;01mif\u001b[39;00m find_max:\n\u001b[1;32m   1196\u001b[0m         c \u001b[38;5;241m=\u001b[39m \u001b[38;5;28mself\u001b[39m\u001b[38;5;241m.\u001b[39mfind_max(\u001b[38;5;124m\"\u001b[39m\u001b[38;5;124mdensity\u001b[39m\u001b[38;5;124m\"\u001b[39m)[\u001b[38;5;241m1\u001b[39m]\n",
      "File \u001b[0;32m~/miniforge3/lib/python3.10/site-packages/yt/data_objects/static_output.py:613\u001b[0m, in \u001b[0;36mDataset.index\u001b[0;34m(self)\u001b[0m\n\u001b[1;32m    611\u001b[0m     oldsettings \u001b[38;5;241m=\u001b[39m np\u001b[38;5;241m.\u001b[39mgeterr()\n\u001b[1;32m    612\u001b[0m     np\u001b[38;5;241m.\u001b[39mseterr(\u001b[38;5;28mall\u001b[39m\u001b[38;5;241m=\u001b[39m\u001b[38;5;124m\"\u001b[39m\u001b[38;5;124mignore\u001b[39m\u001b[38;5;124m\"\u001b[39m)\n\u001b[0;32m--> 613\u001b[0m     \u001b[38;5;28;43mself\u001b[39;49m\u001b[38;5;241;43m.\u001b[39;49m\u001b[43mcreate_field_info\u001b[49m\u001b[43m(\u001b[49m\u001b[43m)\u001b[49m\n\u001b[1;32m    614\u001b[0m     np\u001b[38;5;241m.\u001b[39mseterr(\u001b[38;5;241m*\u001b[39m\u001b[38;5;241m*\u001b[39moldsettings)\n\u001b[1;32m    615\u001b[0m \u001b[38;5;28;01mreturn\u001b[39;00m \u001b[38;5;28mself\u001b[39m\u001b[38;5;241m.\u001b[39m_instantiated_index\n",
      "File \u001b[0;32m~/miniforge3/lib/python3.10/site-packages/yt/frontends/ramses/data_structures.py:822\u001b[0m, in \u001b[0;36mRAMSESDataset.create_field_info\u001b[0;34m(self, *args, **kwa)\u001b[0m\n\u001b[1;32m    820\u001b[0m \u001b[38;5;28;01mdef\u001b[39;00m \u001b[38;5;21mcreate_field_info\u001b[39m(\u001b[38;5;28mself\u001b[39m, \u001b[38;5;241m*\u001b[39margs, \u001b[38;5;241m*\u001b[39m\u001b[38;5;241m*\u001b[39mkwa):\n\u001b[1;32m    821\u001b[0m \u001b[38;5;250m    \u001b[39m\u001b[38;5;124;03m\"\"\"Extend create_field_info to add the particles types.\"\"\"\u001b[39;00m\n\u001b[0;32m--> 822\u001b[0m     \u001b[38;5;28;43msuper\u001b[39;49m\u001b[43m(\u001b[49m\u001b[43m)\u001b[49m\u001b[38;5;241;43m.\u001b[39;49m\u001b[43mcreate_field_info\u001b[49m\u001b[43m(\u001b[49m\u001b[38;5;241;43m*\u001b[39;49m\u001b[43margs\u001b[49m\u001b[43m,\u001b[49m\u001b[43m \u001b[49m\u001b[38;5;241;43m*\u001b[39;49m\u001b[38;5;241;43m*\u001b[39;49m\u001b[43mkwa\u001b[49m\u001b[43m)\u001b[49m\n\u001b[1;32m    823\u001b[0m     \u001b[38;5;66;03m# Register particle filters\u001b[39;00m\n\u001b[1;32m    824\u001b[0m     \u001b[38;5;28;01mif\u001b[39;00m (\u001b[38;5;124m\"\u001b[39m\u001b[38;5;124mio\u001b[39m\u001b[38;5;124m\"\u001b[39m, \u001b[38;5;124m\"\u001b[39m\u001b[38;5;124mparticle_family\u001b[39m\u001b[38;5;124m\"\u001b[39m) \u001b[38;5;129;01min\u001b[39;00m \u001b[38;5;28mself\u001b[39m\u001b[38;5;241m.\u001b[39mfield_list:\n",
      "File \u001b[0;32m~/miniforge3/lib/python3.10/site-packages/yt/data_objects/static_output.py:692\u001b[0m, in \u001b[0;36mDataset.create_field_info\u001b[0;34m(self)\u001b[0m\n\u001b[1;32m    690\u001b[0m             mylog\u001b[38;5;241m.\u001b[39mdebug(\u001b[38;5;124m\"\u001b[39m\u001b[38;5;124mzero common fields, skipping particle union \u001b[39m\u001b[38;5;124m'\u001b[39m\u001b[38;5;124mnbody\u001b[39m\u001b[38;5;124m'\u001b[39m\u001b[38;5;124m\"\u001b[39m)\n\u001b[1;32m    691\u001b[0m \u001b[38;5;28mself\u001b[39m\u001b[38;5;241m.\u001b[39mfield_info\u001b[38;5;241m.\u001b[39msetup_extra_union_fields()\n\u001b[0;32m--> 692\u001b[0m \u001b[38;5;28;43mself\u001b[39;49m\u001b[38;5;241;43m.\u001b[39;49m\u001b[43mfield_info\u001b[49m\u001b[38;5;241;43m.\u001b[39;49m\u001b[43mload_all_plugins\u001b[49m\u001b[43m(\u001b[49m\u001b[38;5;28;43mself\u001b[39;49m\u001b[38;5;241;43m.\u001b[39;49m\u001b[43mdefault_fluid_type\u001b[49m\u001b[43m)\u001b[49m\n\u001b[1;32m    693\u001b[0m deps, unloaded \u001b[38;5;241m=\u001b[39m \u001b[38;5;28mself\u001b[39m\u001b[38;5;241m.\u001b[39mfield_info\u001b[38;5;241m.\u001b[39mcheck_derived_fields()\n\u001b[1;32m    694\u001b[0m \u001b[38;5;28mself\u001b[39m\u001b[38;5;241m.\u001b[39mfield_dependencies\u001b[38;5;241m.\u001b[39mupdate(deps)\n",
      "File \u001b[0;32m~/miniforge3/lib/python3.10/site-packages/yt/fields/field_info_container.py:418\u001b[0m, in \u001b[0;36mFieldInfoContainer.load_all_plugins\u001b[0;34m(self, ftype)\u001b[0m\n\u001b[1;32m    416\u001b[0m     loaded \u001b[38;5;241m+\u001b[39m\u001b[38;5;241m=\u001b[39m \u001b[38;5;28mself\u001b[39m\u001b[38;5;241m.\u001b[39mload_plugin(n, ftype)\n\u001b[1;32m    417\u001b[0m     only_on_root(mylog\u001b[38;5;241m.\u001b[39mdebug, \u001b[38;5;124m\"\u001b[39m\u001b[38;5;124mLoaded \u001b[39m\u001b[38;5;132;01m%s\u001b[39;00m\u001b[38;5;124m (\u001b[39m\u001b[38;5;132;01m%s\u001b[39;00m\u001b[38;5;124m new fields)\u001b[39m\u001b[38;5;124m\"\u001b[39m, n, \u001b[38;5;28mlen\u001b[39m(loaded))\n\u001b[0;32m--> 418\u001b[0m \u001b[38;5;28;43mself\u001b[39;49m\u001b[38;5;241;43m.\u001b[39;49m\u001b[43mfind_dependencies\u001b[49m\u001b[43m(\u001b[49m\u001b[43mloaded\u001b[49m\u001b[43m)\u001b[49m\n",
      "File \u001b[0;32m~/miniforge3/lib/python3.10/site-packages/yt/fields/field_info_container.py:433\u001b[0m, in \u001b[0;36mFieldInfoContainer.find_dependencies\u001b[0;34m(self, loaded)\u001b[0m\n\u001b[1;32m    432\u001b[0m \u001b[38;5;28;01mdef\u001b[39;00m \u001b[38;5;21mfind_dependencies\u001b[39m(\u001b[38;5;28mself\u001b[39m, loaded):\n\u001b[0;32m--> 433\u001b[0m     deps, unavailable \u001b[38;5;241m=\u001b[39m \u001b[38;5;28;43mself\u001b[39;49m\u001b[38;5;241;43m.\u001b[39;49m\u001b[43mcheck_derived_fields\u001b[49m\u001b[43m(\u001b[49m\u001b[43mloaded\u001b[49m\u001b[43m)\u001b[49m\n\u001b[1;32m    434\u001b[0m     \u001b[38;5;28mself\u001b[39m\u001b[38;5;241m.\u001b[39mds\u001b[38;5;241m.\u001b[39mfield_dependencies\u001b[38;5;241m.\u001b[39mupdate(deps)\n\u001b[1;32m    435\u001b[0m     \u001b[38;5;66;03m# Note we may have duplicated\u001b[39;00m\n",
      "File \u001b[0;32m~/miniforge3/lib/python3.10/site-packages/yt/fields/field_info_container.py:644\u001b[0m, in \u001b[0;36mFieldInfoContainer.check_derived_fields\u001b[0;34m(self, fields_to_check)\u001b[0m\n\u001b[1;32m    641\u001b[0m fi \u001b[38;5;241m=\u001b[39m \u001b[38;5;28mself\u001b[39m[field]\n\u001b[1;32m    642\u001b[0m \u001b[38;5;28;01mtry\u001b[39;00m:\n\u001b[1;32m    643\u001b[0m     \u001b[38;5;66;03m# fd: field detector\u001b[39;00m\n\u001b[0;32m--> 644\u001b[0m     fd \u001b[38;5;241m=\u001b[39m \u001b[43mfi\u001b[49m\u001b[38;5;241;43m.\u001b[39;49m\u001b[43mget_dependencies\u001b[49m\u001b[43m(\u001b[49m\u001b[43mds\u001b[49m\u001b[38;5;241;43m=\u001b[39;49m\u001b[38;5;28;43mself\u001b[39;49m\u001b[38;5;241;43m.\u001b[39;49m\u001b[43mds\u001b[49m\u001b[43m)\u001b[49m\n\u001b[1;32m    645\u001b[0m \u001b[38;5;28;01mexcept\u001b[39;00m blacklist \u001b[38;5;28;01mas\u001b[39;00m err:\n\u001b[1;32m    646\u001b[0m     \u001b[38;5;28mprint\u001b[39m(\u001b[38;5;124mf\u001b[39m\u001b[38;5;124m\"\u001b[39m\u001b[38;5;132;01m{\u001b[39;00merr\u001b[38;5;241m.\u001b[39m\u001b[38;5;18m__class__\u001b[39m\u001b[38;5;132;01m}\u001b[39;00m\u001b[38;5;124m raised for field \u001b[39m\u001b[38;5;132;01m{\u001b[39;00mfield\u001b[38;5;132;01m}\u001b[39;00m\u001b[38;5;124m\"\u001b[39m)\n",
      "File \u001b[0;32m~/miniforge3/lib/python3.10/site-packages/yt/fields/derived_field.py:244\u001b[0m, in \u001b[0;36mDerivedField.get_dependencies\u001b[0;34m(self, *args, **kwargs)\u001b[0m\n\u001b[1;32m    240\u001b[0m \u001b[38;5;250m\u001b[39m\u001b[38;5;124;03m\"\"\"\u001b[39;00m\n\u001b[1;32m    241\u001b[0m \u001b[38;5;124;03mThis returns a list of names of fields that this field depends on.\u001b[39;00m\n\u001b[1;32m    242\u001b[0m \u001b[38;5;124;03m\"\"\"\u001b[39;00m\n\u001b[1;32m    243\u001b[0m e \u001b[38;5;241m=\u001b[39m FieldDetector(\u001b[38;5;241m*\u001b[39margs, \u001b[38;5;241m*\u001b[39m\u001b[38;5;241m*\u001b[39mkwargs)\n\u001b[0;32m--> 244\u001b[0m \u001b[43me\u001b[49m\u001b[43m[\u001b[49m\u001b[38;5;28;43mself\u001b[39;49m\u001b[38;5;241;43m.\u001b[39;49m\u001b[43mname\u001b[49m\u001b[43m]\u001b[49m\n\u001b[1;32m    245\u001b[0m \u001b[38;5;28;01mreturn\u001b[39;00m e\n",
      "File \u001b[0;32m~/miniforge3/lib/python3.10/site-packages/yt/fields/field_detector.py:128\u001b[0m, in \u001b[0;36mFieldDetector.__missing__\u001b[0;34m(self, item)\u001b[0m\n\u001b[1;32m    126\u001b[0m             vv \u001b[38;5;241m=\u001b[39m finfo(\u001b[38;5;28mself\u001b[39m)\n\u001b[1;32m    127\u001b[0m     \u001b[38;5;28;01mif\u001b[39;00m \u001b[38;5;129;01mnot\u001b[39;00m permute_params:\n\u001b[0;32m--> 128\u001b[0m         vv \u001b[38;5;241m=\u001b[39m \u001b[43mfinfo\u001b[49m\u001b[43m(\u001b[49m\u001b[38;5;28;43mself\u001b[39;49m\u001b[43m)\u001b[49m\n\u001b[1;32m    129\u001b[0m \u001b[38;5;28;01mexcept\u001b[39;00m NeedsGridType \u001b[38;5;28;01mas\u001b[39;00m exc:\n\u001b[1;32m    130\u001b[0m     ngz \u001b[38;5;241m=\u001b[39m exc\u001b[38;5;241m.\u001b[39mghost_zones\n",
      "File \u001b[0;32m~/miniforge3/lib/python3.10/site-packages/yt/fields/derived_field.py:285\u001b[0m, in \u001b[0;36mDerivedField.__call__\u001b[0;34m(self, data)\u001b[0m\n\u001b[1;32m    280\u001b[0m     \u001b[38;5;28;01mraise\u001b[39;00m \u001b[38;5;167;01mRuntimeError\u001b[39;00m(\n\u001b[1;32m    281\u001b[0m         \u001b[38;5;124m\"\u001b[39m\u001b[38;5;124mSomething has gone terribly wrong, _function is NullFunc \u001b[39m\u001b[38;5;124m\"\u001b[39m\n\u001b[1;32m    282\u001b[0m         \u001b[38;5;241m+\u001b[39m \u001b[38;5;124mf\u001b[39m\u001b[38;5;124m\"\u001b[39m\u001b[38;5;124mfor \u001b[39m\u001b[38;5;132;01m{\u001b[39;00m\u001b[38;5;28mself\u001b[39m\u001b[38;5;241m.\u001b[39mname\u001b[38;5;132;01m}\u001b[39;00m\u001b[38;5;124m\"\u001b[39m\n\u001b[1;32m    283\u001b[0m     )\n\u001b[1;32m    284\u001b[0m \u001b[38;5;28;01mwith\u001b[39;00m \u001b[38;5;28mself\u001b[39m\u001b[38;5;241m.\u001b[39munit_registry(data):\n\u001b[0;32m--> 285\u001b[0m     dd \u001b[38;5;241m=\u001b[39m \u001b[38;5;28;43mself\u001b[39;49m\u001b[38;5;241;43m.\u001b[39;49m\u001b[43m_function\u001b[49m\u001b[43m(\u001b[49m\u001b[38;5;28;43mself\u001b[39;49m\u001b[43m,\u001b[49m\u001b[43m \u001b[49m\u001b[43mdata\u001b[49m\u001b[43m)\u001b[49m\n\u001b[1;32m    286\u001b[0m \u001b[38;5;28;01mfor\u001b[39;00m field_name \u001b[38;5;129;01min\u001b[39;00m data\u001b[38;5;241m.\u001b[39mkeys():\n\u001b[1;32m    287\u001b[0m     \u001b[38;5;28;01mif\u001b[39;00m field_name \u001b[38;5;129;01mnot\u001b[39;00m \u001b[38;5;129;01min\u001b[39;00m original_fields:\n",
      "Cell \u001b[0;32mIn[5], line 2\u001b[0m, in \u001b[0;36m_ion_param\u001b[0;34m(field, data)\u001b[0m\n\u001b[1;32m      1\u001b[0m \u001b[38;5;28;01mdef\u001b[39;00m \u001b[38;5;21m_ion_param\u001b[39m(field, data): \n\u001b[0;32m----> 2\u001b[0m     photon\u001b[38;5;241m=\u001b[39m\u001b[43mdata\u001b[49m\u001b[43m[\u001b[49m\u001b[38;5;124;43m'\u001b[39;49m\u001b[38;5;124;43mramses-rt\u001b[39;49m\u001b[38;5;124;43m'\u001b[39;49m\u001b[43m,\u001b[49m\u001b[43m \u001b[49m\u001b[38;5;124;43m'\u001b[39;49m\u001b[38;5;124;43mPhoton_density_1\u001b[39;49m\u001b[38;5;124;43m'\u001b[39;49m\u001b[43m]\u001b[49m\u001b[38;5;241m+\u001b[39mdata[\u001b[38;5;124m'\u001b[39m\u001b[38;5;124mramses-rt\u001b[39m\u001b[38;5;124m'\u001b[39m, \u001b[38;5;124m'\u001b[39m\u001b[38;5;124mPhoton_density_2\u001b[39m\u001b[38;5;124m'\u001b[39m] \u001b[38;5;241m+\u001b[39m data[\u001b[38;5;124m'\u001b[39m\u001b[38;5;124mramses-rt\u001b[39m\u001b[38;5;124m'\u001b[39m, \u001b[38;5;124m'\u001b[39m\u001b[38;5;124mPhoton_density_3\u001b[39m\u001b[38;5;124m'\u001b[39m] \u001b[38;5;241m+\u001b[39m data[\u001b[38;5;124m'\u001b[39m\u001b[38;5;124mramses-rt\u001b[39m\u001b[38;5;124m'\u001b[39m, \u001b[38;5;124m'\u001b[39m\u001b[38;5;124mPhoton_density_4\u001b[39m\u001b[38;5;124m'\u001b[39m]\n\u001b[1;32m      4\u001b[0m     \u001b[38;5;28;01mreturn\u001b[39;00m photon\u001b[38;5;241m/\u001b[39mdata[\u001b[38;5;124m'\u001b[39m\u001b[38;5;124mgas\u001b[39m\u001b[38;5;124m'\u001b[39m, \u001b[38;5;124m'\u001b[39m\u001b[38;5;124mnumber_density\u001b[39m\u001b[38;5;124m'\u001b[39m]\n",
      "File \u001b[0;32m~/miniforge3/lib/python3.10/site-packages/yt/fields/field_detector.py:111\u001b[0m, in \u001b[0;36mFieldDetector.__missing__\u001b[0;34m(self, item)\u001b[0m\n\u001b[1;32m    109\u001b[0m \u001b[38;5;28;01melse\u001b[39;00m:\n\u001b[1;32m    110\u001b[0m     field \u001b[38;5;241m=\u001b[39m item\n\u001b[0;32m--> 111\u001b[0m finfo \u001b[38;5;241m=\u001b[39m \u001b[38;5;28;43mself\u001b[39;49m\u001b[38;5;241;43m.\u001b[39;49m\u001b[43mds\u001b[49m\u001b[38;5;241;43m.\u001b[39;49m\u001b[43m_get_field_info\u001b[49m\u001b[43m(\u001b[49m\u001b[43mfield\u001b[49m\u001b[43m)\u001b[49m\n\u001b[1;32m    112\u001b[0m params, permute_params \u001b[38;5;241m=\u001b[39m finfo\u001b[38;5;241m.\u001b[39m_get_needed_parameters(\u001b[38;5;28mself\u001b[39m)\n\u001b[1;32m    113\u001b[0m \u001b[38;5;28mself\u001b[39m\u001b[38;5;241m.\u001b[39mfield_parameters\u001b[38;5;241m.\u001b[39mupdate(params)\n",
      "File \u001b[0;32m~/miniforge3/lib/python3.10/site-packages/yt/data_objects/static_output.py:957\u001b[0m, in \u001b[0;36mDataset._get_field_info\u001b[0;34m(self, field)\u001b[0m\n\u001b[1;32m    952\u001b[0m \u001b[38;5;28;01mdef\u001b[39;00m \u001b[38;5;21m_get_field_info\u001b[39m(\n\u001b[1;32m    953\u001b[0m     \u001b[38;5;28mself\u001b[39m,\n\u001b[1;32m    954\u001b[0m     field: Union[FieldKey, ImplicitFieldKey, DerivedField],\n\u001b[1;32m    955\u001b[0m     \u001b[38;5;241m/\u001b[39m,\n\u001b[1;32m    956\u001b[0m ) \u001b[38;5;241m-\u001b[39m\u001b[38;5;241m>\u001b[39m DerivedField:\n\u001b[0;32m--> 957\u001b[0m     field_info, candidates \u001b[38;5;241m=\u001b[39m \u001b[38;5;28;43mself\u001b[39;49m\u001b[38;5;241;43m.\u001b[39;49m\u001b[43m_get_field_info_helper\u001b[49m\u001b[43m(\u001b[49m\u001b[43mfield\u001b[49m\u001b[43m)\u001b[49m\n\u001b[1;32m    959\u001b[0m     \u001b[38;5;28;01mif\u001b[39;00m field_info\u001b[38;5;241m.\u001b[39mname[\u001b[38;5;241m1\u001b[39m] \u001b[38;5;129;01min\u001b[39;00m (\u001b[38;5;124m\"\u001b[39m\u001b[38;5;124mpx\u001b[39m\u001b[38;5;124m\"\u001b[39m, \u001b[38;5;124m\"\u001b[39m\u001b[38;5;124mpy\u001b[39m\u001b[38;5;124m\"\u001b[39m, \u001b[38;5;124m\"\u001b[39m\u001b[38;5;124mpz\u001b[39m\u001b[38;5;124m\"\u001b[39m, \u001b[38;5;124m\"\u001b[39m\u001b[38;5;124mpdx\u001b[39m\u001b[38;5;124m\"\u001b[39m, \u001b[38;5;124m\"\u001b[39m\u001b[38;5;124mpdy\u001b[39m\u001b[38;5;124m\"\u001b[39m, \u001b[38;5;124m\"\u001b[39m\u001b[38;5;124mpdz\u001b[39m\u001b[38;5;124m\"\u001b[39m):\n\u001b[1;32m    960\u001b[0m         \u001b[38;5;66;03m# escape early as a bandaid solution to\u001b[39;00m\n\u001b[1;32m    961\u001b[0m         \u001b[38;5;66;03m# https://github.com/yt-project/yt/issues/3381\u001b[39;00m\n\u001b[1;32m    962\u001b[0m         \u001b[38;5;28;01mreturn\u001b[39;00m field_info\n",
      "File \u001b[0;32m~/miniforge3/lib/python3.10/site-packages/yt/data_objects/static_output.py:1050\u001b[0m, in \u001b[0;36mDataset._get_field_info_helper\u001b[0;34m(self, field)\u001b[0m\n\u001b[1;32m   1047\u001b[0m \u001b[38;5;28;01melif\u001b[39;00m (ftype, fname) \u001b[38;5;129;01min\u001b[39;00m \u001b[38;5;28mself\u001b[39m\u001b[38;5;241m.\u001b[39mfield_info:\n\u001b[1;32m   1048\u001b[0m     \u001b[38;5;28;01mreturn\u001b[39;00m \u001b[38;5;28mself\u001b[39m\u001b[38;5;241m.\u001b[39mfield_info[ftype, fname], []\n\u001b[0;32m-> 1050\u001b[0m \u001b[38;5;28;01mraise\u001b[39;00m YTFieldNotFound(field, ds\u001b[38;5;241m=\u001b[39m\u001b[38;5;28mself\u001b[39m)\n",
      "\u001b[0;31mYTFieldNotFound\u001b[0m: Could not find field ('ramses-rt', 'Photon_density_1') in info_00273."
     ]
    }
   ],
   "source": [
    "p = yt.ProjectionPlot(ds, \"z\", (\"gas\", \"number_density\"), width=0.0001,\n",
    "                      weight_field=(\"gas\", \"number_density\"), buff_size=(1000, 1000),\n",
    "                      center=[0.49118094, 0.49275361, 0.49473726])\n",
    "\n",
    "p.show()"
   ]
  },
  {
   "cell_type": "code",
   "execution_count": null,
   "id": "08a4bf55-ce9a-40fd-b139-3a246ea41187",
   "metadata": {},
   "outputs": [],
   "source": []
  }
 ],
 "metadata": {
  "kernelspec": {
   "display_name": "Python 3 (ipykernel)",
   "language": "python",
   "name": "python3"
  },
  "language_info": {
   "codemirror_mode": {
    "name": "ipython",
    "version": 3
   },
   "file_extension": ".py",
   "mimetype": "text/x-python",
   "name": "python",
   "nbconvert_exporter": "python",
   "pygments_lexer": "ipython3",
   "version": "3.10.14"
  }
 },
 "nbformat": 4,
 "nbformat_minor": 5
}
